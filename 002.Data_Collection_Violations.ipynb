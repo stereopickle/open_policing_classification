{
 "cells": [
  {
   "cell_type": "markdown",
   "metadata": {},
   "source": [
    "# Data Collection Violations\n",
    "This document collect only full violation texts in order to cluster texts. \n",
    "Data collected from Standford's Open Policing database.  \n",
    "(https://openpolicing.stanford.edu/data/)"
   ]
  },
  {
   "cell_type": "code",
   "execution_count": 2,
   "metadata": {},
   "outputs": [],
   "source": [
    "import pandas as pd\n",
    "import numpy as np\n",
    "from bs4 import BeautifulSoup\n",
    "from io import BytesIO\n",
    "from zipfile import ZipFile\n",
    "import requests\n",
    "from urllib.request import urlopen"
   ]
  },
  {
   "cell_type": "markdown",
   "metadata": {},
   "source": [
    "## Getting file links\n",
    "I'll first scrape all csv zip file urls from the website."
   ]
  },
  {
   "cell_type": "code",
   "execution_count": 3,
   "metadata": {},
   "outputs": [],
   "source": [
    "html_page = requests.get('https://openpolicing.stanford.edu/data/')\n",
    "soup = BeautifulSoup(html_page.content, 'html.parser')\n",
    "file_urls = soup.findAll('a', title = 'Download data as CSV')\n",
    "links = [link.get('href') for link in file_urls]"
   ]
  },
  {
   "cell_type": "markdown",
   "metadata": {},
   "source": [
    "## Download and compile\n",
    "I'll iterate through each zip file, download, unzip, open csv and filter only violation text data."
   ]
  },
  {
   "cell_type": "code",
   "execution_count": null,
   "metadata": {},
   "outputs": [],
   "source": [
    "#text_list = []"
   ]
  },
  {
   "cell_type": "code",
   "execution_count": null,
   "metadata": {},
   "outputs": [],
   "source": [
    "import time\n",
    "\n",
    "for link in links:\n",
    "    # open url\n",
    "    resp = urlopen(link)\n",
    "    # read zipfile\n",
    "    zipfile = ZipFile(BytesIO(resp.read()))\n",
    "    # get the csv file name\n",
    "    fname = zipfile.namelist()[0]\n",
    "    # convert to pandas dateframe\n",
    "    try:\n",
    "        df = pd.read_csv(zipfile.open(fname), dtype=object, usecols = ['violation'])\n",
    "        text_list.extend(df.violation)\n",
    "\n",
    "    except:\n",
    "        pass\n",
    "    \n",
    "    # close file\n",
    "    zipfile.close()\n",
    "    \n",
    "    # let me know where you are\n",
    "    print(f'{fname} Completed, {len(text_list)} Observations')\n",
    "    time.sleep(np.random.randint(10, 3600))"
   ]
  },
  {
   "cell_type": "markdown",
   "metadata": {},
   "source": [
    "## Export the List"
   ]
  },
  {
   "cell_type": "code",
   "execution_count": 7,
   "metadata": {},
   "outputs": [],
   "source": [
    "import pickle\n",
    "with open(\"DATA/text.txt\", \"wb\") as filepath:\n",
    "    pickle.dump(text_list, filepath)"
   ]
  },
  {
   "cell_type": "code",
   "execution_count": 18,
   "metadata": {},
   "outputs": [],
   "source": [
    "# loading\n",
    "#with open ('DATA/text.txt', 'rb') as filepath:\n",
    "#    text_list = pickle.load(filepath)"
   ]
  },
  {
   "cell_type": "code",
   "execution_count": null,
   "metadata": {},
   "outputs": [],
   "source": []
  }
 ],
 "metadata": {
  "kernelspec": {
   "display_name": "Python 3",
   "language": "python",
   "name": "python3"
  },
  "language_info": {
   "codemirror_mode": {
    "name": "ipython",
    "version": 3
   },
   "file_extension": ".py",
   "mimetype": "text/x-python",
   "name": "python",
   "nbconvert_exporter": "python",
   "pygments_lexer": "ipython3",
   "version": "3.7.4"
  },
  "toc": {
   "base_numbering": 1,
   "nav_menu": {},
   "number_sections": true,
   "sideBar": true,
   "skip_h1_title": false,
   "title_cell": "Table of Contents",
   "title_sidebar": "Contents",
   "toc_cell": false,
   "toc_position": {},
   "toc_section_display": true,
   "toc_window_display": false
  }
 },
 "nbformat": 4,
 "nbformat_minor": 2
}
