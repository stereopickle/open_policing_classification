{
 "cells": [
  {
   "cell_type": "markdown",
   "metadata": {},
   "source": [
    "# Text Clustering\n",
    "In this document, I will cluster text data for violation from across many cities in the state to see if it creates a reasonable categories to use for analysis."
   ]
  },
  {
   "cell_type": "code",
   "execution_count": 1,
   "metadata": {},
   "outputs": [
    {
     "name": "stderr",
     "output_type": "stream",
     "text": [
      "/opt/anaconda3/lib/python3.7/site-packages/statsmodels/tools/_testing.py:19: FutureWarning: pandas.util.testing is deprecated. Use the functions in the public API at pandas.testing instead.\n",
      "  import pandas.util.testing as tm\n"
     ]
    }
   ],
   "source": [
    "import pandas as pd\n",
    "import numpy as np\n",
    "import matplotlib.pyplot as plt\n",
    "import seaborn as sns\n",
    "%matplotlib inline\n",
    "\n",
    "import pickle\n",
    "\n",
    "import spacy\n",
    "import en_core_web_lg\n",
    "from collections import Counter\n",
    "import nltk\n",
    "from nltk.corpus import stopwords\n",
    "import string\n",
    "import re\n",
    "\n",
    "import matplotlib.pyplot as plt\n",
    "%matplotlib inline\n",
    "\n",
    "pd.set_option('precision', 4)\n",
    "pd.options.display.max_seq_items = 100\n",
    "pd.options.display.max_columns = 50\n",
    "plt.style.use('fivethirtyeight')"
   ]
  },
  {
   "cell_type": "code",
   "execution_count": 2,
   "metadata": {},
   "outputs": [],
   "source": [
    "with open ('DATA/text.txt', 'rb') as filepath:\n",
    "    text_list = pickle.load(filepath)"
   ]
  },
  {
   "cell_type": "code",
   "execution_count": 3,
   "metadata": {
    "scrolled": true
   },
   "outputs": [
    {
     "data": {
      "text/plain": [
       "75996170"
      ]
     },
     "execution_count": 3,
     "metadata": {},
     "output_type": "execute_result"
    }
   ],
   "source": [
    "len(text_list)"
   ]
  },
  {
   "cell_type": "markdown",
   "metadata": {},
   "source": [
    "It's a huge dataset, we should be careful dealing with them."
   ]
  },
  {
   "cell_type": "code",
   "execution_count": 3,
   "metadata": {},
   "outputs": [],
   "source": [
    "df = pd.DataFrame(text_list, columns=['violations'])"
   ]
  },
  {
   "cell_type": "markdown",
   "metadata": {},
   "source": [
    "## Text Preprocessing\n"
   ]
  },
  {
   "cell_type": "code",
   "execution_count": 12,
   "metadata": {},
   "outputs": [],
   "source": [
    "pattern = \"([a-zA-Z]+[\\&[a-zA-Z]+]?)\"\n",
    "p = re.compile(pattern)"
   ]
  },
  {
   "cell_type": "code",
   "execution_count": 13,
   "metadata": {},
   "outputs": [],
   "source": [
    "df['violations'] = df.violations.map(lambda x: ' '.join(p.findall(str(x).upper())))"
   ]
  },
  {
   "cell_type": "code",
   "execution_count": 14,
   "metadata": {},
   "outputs": [],
   "source": [
    "# check for duplicates\n",
    "df.drop_duplicates(inplace = True)"
   ]
  },
  {
   "cell_type": "code",
   "execution_count": 15,
   "metadata": {},
   "outputs": [
    {
     "data": {
      "text/plain": [
       "(439438, 1)"
      ]
     },
     "execution_count": 15,
     "metadata": {},
     "output_type": "execute_result"
    }
   ],
   "source": [
    "df.shape"
   ]
  },
  {
   "cell_type": "markdown",
   "metadata": {},
   "source": [
    "That's substantially less, so that's great! Let's save them out."
   ]
  },
  {
   "cell_type": "code",
   "execution_count": 16,
   "metadata": {},
   "outputs": [],
   "source": [
    "with open(\"DATA/text_clean.txt\", \"wb\") as filepath:\n",
    "    pickle.dump(df.violations.values, filepath)"
   ]
  },
  {
   "cell_type": "code",
   "execution_count": 17,
   "metadata": {},
   "outputs": [],
   "source": [
    "tmp = [x.lower() for x in list(df.violations)]"
   ]
  },
  {
   "cell_type": "code",
   "execution_count": 22,
   "metadata": {},
   "outputs": [],
   "source": [
    "nlp = en_core_web_lg.load()"
   ]
  },
  {
   "cell_type": "code",
   "execution_count": 10,
   "metadata": {},
   "outputs": [],
   "source": [
    "def replace_texts(list_of_text, replacement_dict):\n",
    "    for i, text in enumerate(list_of_text):\n",
    "        text = text.split()\n",
    "        for j, te in enumerate(text):\n",
    "            if te in replacement_dict: \n",
    "                text[j] = replacement_dict[te]\n",
    "        list_of_text[i] = ' '.join(text)\n",
    "    return list_of_text"
   ]
  },
  {
   "cell_type": "code",
   "execution_count": 11,
   "metadata": {},
   "outputs": [],
   "source": [
    "def consolidate_words(textlist, \n",
    "                      n = 1, \n",
    "                      thresh = .8, \n",
    "                      nlp = None, \n",
    "                      replace = False,\n",
    "                      remove = False, \n",
    "                      verbose = True):\n",
    "    '''\n",
    "    Takes a list of texts and change words that occur \n",
    "    n times or less to similar word in the text\n",
    "    Return a new list or a replacement dictionary\n",
    "    Requires Spacy\n",
    "    \n",
    "    Keyword arguments:\n",
    "    textlist -- an array of texts\n",
    "    n        -- int, maximum occurrence to replace or remove (default = 1)\n",
    "    thresh   -- float (0 < thresh < 1), minimum similarity required to replace (default = .8)\n",
    "    nlp      -- Spacy module, if none uses en_core_web_lg from Spacy (default = None)\n",
    "    replace  -- if true, it returns a new textlist, or it returns a replacement dictionary\n",
    "    remove   -- if true, it removes the low-occurrence words if there's no replacement\n",
    "    verbose  -- if True, returns all word changes (default True))\n",
    "    '''\n",
    "    if nlp == None:\n",
    "        nlp = en_core_web_lg.load()\n",
    "    \n",
    "    list_of_text = textlist.copy()\n",
    "    \n",
    "    wordcounts = Counter(' '.join(list_of_text).split())    \n",
    "    low_words = [k for k, v in wordcounts.items() if v <= n]\n",
    "    other_words = [k for k, v in wordcounts.items() if v > n]\n",
    "    \n",
    "    tokens = nlp(' '.join(other_words))\n",
    "    \n",
    "    replacement_dict = {}\n",
    "    \n",
    "    for word in low_words:\n",
    "\n",
    "        word_token = nlp(word)\n",
    "        max_similarity = thresh\n",
    "\n",
    "        for tk in tokens:\n",
    "            # find the maximum similarity above threshold\n",
    "            sim_score = word_token.similarity(tk)\n",
    "\n",
    "            if 1 > sim_score > max_similarity:\n",
    "                replacement_dict[word] = tk.text\n",
    "                max_similarity = sim_score\n",
    "                            \n",
    "        try:\n",
    "            if verbose: \n",
    "                print(word, '->', replacement_dict[word])\n",
    "            else: \n",
    "                continue\n",
    "                \n",
    "        except KeyError:\n",
    "            if remove: \n",
    "                replacement_dict[word] = ''\n",
    "            else:\n",
    "                continue\n",
    "\n",
    "    if replace:\n",
    "        list_of_text = replace_texts(list_of_text, replacement_dict)\n",
    "        return list_of_text\n",
    "    \n",
    "    else:\n",
    "        return replacement_dict"
   ]
  },
  {
   "cell_type": "code",
   "execution_count": null,
   "metadata": {},
   "outputs": [],
   "source": [
    "violations = consolidate_words(tmp, n = 50, nlp = nlp, replace = True, remove = True)"
   ]
  },
  {
   "cell_type": "code",
   "execution_count": 14,
   "metadata": {},
   "outputs": [],
   "source": [
    "with open(\"DATA/text_clean.txt\", \"wb\") as filepath:\n",
    "    pickle.dump(violations, filepath)"
   ]
  },
  {
   "cell_type": "code",
   "execution_count": 4,
   "metadata": {},
   "outputs": [],
   "source": [
    "with open(\"DATA/text_clean.txt\", \"rb\") as filepath:\n",
    "    violations = pickle.load(filepath)"
   ]
  },
  {
   "cell_type": "markdown",
   "metadata": {},
   "source": [
    "### Lemmatization"
   ]
  },
  {
   "cell_type": "code",
   "execution_count": 5,
   "metadata": {},
   "outputs": [],
   "source": [
    "from nltk.stem import WordNetLemmatizer"
   ]
  },
  {
   "cell_type": "code",
   "execution_count": 6,
   "metadata": {},
   "outputs": [],
   "source": [
    "# lemmatization\n",
    "wnl = WordNetLemmatizer()"
   ]
  },
  {
   "cell_type": "code",
   "execution_count": 7,
   "metadata": {},
   "outputs": [],
   "source": [
    "wordcounts = Counter(' '.join(violations).split())"
   ]
  },
  {
   "cell_type": "code",
   "execution_count": 8,
   "metadata": {},
   "outputs": [],
   "source": [
    "replace_dict = {}\n",
    "for k in wordcounts.keys():\n",
    "    rep = wnl.lemmatize(k)\n",
    "    if rep != k: \n",
    "        replace_dict[k] = wnl.lemmatize(k)"
   ]
  },
  {
   "cell_type": "code",
   "execution_count": 12,
   "metadata": {},
   "outputs": [],
   "source": [
    "violations = replace_texts(violations, replace_dict)"
   ]
  },
  {
   "cell_type": "markdown",
   "metadata": {},
   "source": [
    "### Unique words\n",
    "Let's get a set of unique words and make some final edits."
   ]
  },
  {
   "cell_type": "code",
   "execution_count": 13,
   "metadata": {},
   "outputs": [],
   "source": [
    "wordcounts = Counter(' '.join(violations).split())"
   ]
  },
  {
   "cell_type": "code",
   "execution_count": 14,
   "metadata": {},
   "outputs": [],
   "source": [
    "unique_words = list(wordcounts.keys())"
   ]
  },
  {
   "cell_type": "markdown",
   "metadata": {},
   "source": [
    "### Stopwords Removal\n",
    "Let's remove some stopwords."
   ]
  },
  {
   "cell_type": "code",
   "execution_count": 15,
   "metadata": {},
   "outputs": [],
   "source": [
    "from nltk.corpus import stopwords"
   ]
  },
  {
   "cell_type": "code",
   "execution_count": 16,
   "metadata": {},
   "outputs": [],
   "source": [
    "sw = stopwords.words('English')"
   ]
  },
  {
   "cell_type": "code",
   "execution_count": 17,
   "metadata": {},
   "outputs": [],
   "source": [
    "unique_words = [x for x in unique_words if x not in sw]"
   ]
  },
  {
   "cell_type": "code",
   "execution_count": 18,
   "metadata": {},
   "outputs": [
    {
     "data": {
      "text/plain": [
       "1673"
      ]
     },
     "execution_count": 18,
     "metadata": {},
     "output_type": "execute_result"
    }
   ],
   "source": [
    "len(unique_words)"
   ]
  },
  {
   "cell_type": "markdown",
   "metadata": {},
   "source": [
    "## Clusterings\n",
    "### Unique Words Clusterings\n",
    "First I'll cluster words based on their similarity. First, let's get their word vectors."
   ]
  },
  {
   "cell_type": "code",
   "execution_count": null,
   "metadata": {},
   "outputs": [],
   "source": [
    "from sklearn.preprocessing import StandardScaler\n",
    "from sklearn.cluster import AgglomerativeClustering"
   ]
  },
  {
   "cell_type": "code",
   "execution_count": 19,
   "metadata": {},
   "outputs": [],
   "source": [
    "def get_vectors(word): \n",
    "    token = nlp(word)\n",
    "    if np.sum(token.vector) == 0: \n",
    "        return np.nan\n",
    "    return token.vector"
   ]
  },
  {
   "cell_type": "code",
   "execution_count": 20,
   "metadata": {},
   "outputs": [],
   "source": [
    "unique_vecs = pd.DataFrame()"
   ]
  },
  {
   "cell_type": "code",
   "execution_count": 23,
   "metadata": {},
   "outputs": [],
   "source": [
    "for word in unique_words:\n",
    "    vecs = get_vectors(word)\n",
    "    if vecs is not np.nan:\n",
    "        unique_vecs[word] = vecs"
   ]
  },
  {
   "cell_type": "code",
   "execution_count": 24,
   "metadata": {
    "scrolled": true
   },
   "outputs": [],
   "source": [
    "unique_vecs = unique_vecs.transpose()"
   ]
  },
  {
   "cell_type": "code",
   "execution_count": 51,
   "metadata": {},
   "outputs": [],
   "source": [
    "words = list(unique_vecs.index)\n",
    "sc_vecs = StandardScaler().fit_transform(unique_vecs)"
   ]
  },
  {
   "cell_type": "markdown",
   "metadata": {},
   "source": [
    "#### Hierarchical Agglomerative Clustering"
   ]
  },
  {
   "cell_type": "code",
   "execution_count": 92,
   "metadata": {},
   "outputs": [],
   "source": [
    "n = 20"
   ]
  },
  {
   "cell_type": "code",
   "execution_count": 93,
   "metadata": {},
   "outputs": [],
   "source": [
    "clusters = AgglomerativeClustering(n_clusters = n)\n",
    "pred = clusters.fit_predict(unique_vecs)"
   ]
  },
  {
   "cell_type": "code",
   "execution_count": 94,
   "metadata": {},
   "outputs": [],
   "source": [
    "result = pd.DataFrame(list(zip(words, pred)), columns = ['words', 'cluster'])"
   ]
  },
  {
   "cell_type": "code",
   "execution_count": null,
   "metadata": {},
   "outputs": [],
   "source": [
    "for i in range(n): \n",
    "    print(\"\\n\")\n",
    "    print(f\"Cluster {i}\\n{result[result.cluster == i].words.values}\")"
   ]
  },
  {
   "cell_type": "markdown",
   "metadata": {},
   "source": [
    "Let's see how individual clusters are like."
   ]
  },
  {
   "cell_type": "markdown",
   "metadata": {},
   "source": [
    "Some clusters are not decipherable, let's correct them. Then we will cluster based on the average of each document."
   ]
  },
  {
   "cell_type": "code",
   "execution_count": 101,
   "metadata": {},
   "outputs": [],
   "source": [
    "result_a = result[result.cluster != 14]\n",
    "result_a = result[result.cluster != 13]"
   ]
  },
  {
   "cell_type": "code",
   "execution_count": 105,
   "metadata": {},
   "outputs": [
    {
     "name": "stderr",
     "output_type": "stream",
     "text": [
      "/opt/anaconda3/lib/python3.7/site-packages/ipykernel_launcher.py:1: UserWarning: Boolean Series key will be reindexed to match DataFrame index.\n",
      "  \"\"\"Entry point for launching an IPython kernel.\n"
     ]
    },
    {
     "data": {
      "text/plain": [
       "array(['susp', 'lic', 'fty', 'reqd', 'viol', 'prohib', 'veh', 'imp',\n",
       "       'inj', 'stopsign', 'phys', 'ped', 'drv', 'bac', 'emerg', 'disp',\n",
       "       'traf', 'loc', 'proj', 'laned', 'driv', 'agg', 'diplay',\n",
       "       'pedestrains', 'regis', 'emer', 'respon', 'misd', 'oper', 'priv',\n",
       "       'lft', 'vio', 'frt', 'cmv', 'csp', 'nontransparent', 'vin',\n",
       "       'flagman', 'sched', 'maint', 'arrestable', 'reddi', 'fel', 'contr',\n",
       "       'bef', 'dri', 'lts', 'opr', 'revok', 'yld', 'alch', 'pip', 'chg',\n",
       "       'prov', 'fld', 'zon', 'bal', 'beh', 'resi', 'pol', 'pres', 'fac',\n",
       "       'scen', 'unknow', 'hom', 'cty', 'pers', 'intersec', 'unattend',\n",
       "       'consum', 'alc', 'obscur', 'rcpt', 'circum', 'owi', 'crd', 'cad',\n",
       "       'ovr', 'spee', 'curent', 'lpl', 'trl', 'pbt', 'fatt', 'carless',\n",
       "       'ratt', 'plt', 'ndl', 'prf', 'ckd', 'oc', 'indef', 'ife', 'coa',\n",
       "       'vlt', 'lgt', 'asr', 'fao', 'rect', 'fst', 'ivc', 'engr',\n",
       "       'hallucinogenics', 'cmb', 'protec', 'adrs'], dtype=object)"
      ]
     },
     "execution_count": 105,
     "metadata": {},
     "output_type": "execute_result"
    }
   ],
   "source": [
    "result_a[result.cluster == 17].words.values"
   ]
  },
  {
   "cell_type": "code",
   "execution_count": 109,
   "metadata": {},
   "outputs": [
    {
     "data": {
      "text/plain": [
       "['stop', 'stopsign', 'stopping', 'stopped']"
      ]
     },
     "execution_count": 109,
     "metadata": {},
     "output_type": "execute_result"
    }
   ],
   "source": [
    "[x for x in result_a.words if x.startswith('stop')]"
   ]
  },
  {
   "cell_type": "code",
   "execution_count": null,
   "metadata": {},
   "outputs": [],
   "source": [
    "{'susp': 'suspend', 'viol': 'violation', 'prohib': 'prohibit', 'veh': 'vehicle', 'stopsign': 'stop', 'pedestrains': 'pedestrians', \n",
    "''}"
   ]
  },
  {
   "cell_type": "markdown",
   "metadata": {},
   "source": [
    "### Document based clustering\n",
    "Now I'll get the average vector of each sentence and cluster documents."
   ]
  },
  {
   "cell_type": "code",
   "execution_count": null,
   "metadata": {},
   "outputs": [],
   "source": [
    "# todo - break it out \n",
    "violations_vecs = np.empty((300,1))\n",
    "\n",
    "for docs in violations:\n",
    "    vecs = get_vectors(docs)\n",
    "    try:\n",
    "        violations_vecs = np.concatenate((violations_vecs, vecs.reshape((300,1))), axis = 1)\n",
    "    except AttributeError: \n",
    "        violations_vecs = np.concatenate((violations_vecs, np.zeros((300,1))), axis = 1)\n",
    "violations_vecs = violations_vecs[:, 1:]    "
   ]
  },
  {
   "cell_type": "code",
   "execution_count": 243,
   "metadata": {},
   "outputs": [
    {
     "data": {
      "text/plain": [
       "(300, 14)"
      ]
     },
     "execution_count": 243,
     "metadata": {},
     "output_type": "execute_result"
    }
   ],
   "source": [
    "violations_vecs.shape"
   ]
  },
  {
   "cell_type": "code",
   "execution_count": null,
   "metadata": {},
   "outputs": [],
   "source": []
  }
 ],
 "metadata": {
  "kernelspec": {
   "display_name": "Python 3",
   "language": "python",
   "name": "python3"
  },
  "language_info": {
   "codemirror_mode": {
    "name": "ipython",
    "version": 3
   },
   "file_extension": ".py",
   "mimetype": "text/x-python",
   "name": "python",
   "nbconvert_exporter": "python",
   "pygments_lexer": "ipython3",
   "version": "3.7.4"
  },
  "toc": {
   "base_numbering": 1,
   "nav_menu": {},
   "number_sections": true,
   "sideBar": true,
   "skip_h1_title": false,
   "title_cell": "Table of Contents",
   "title_sidebar": "Contents",
   "toc_cell": false,
   "toc_position": {},
   "toc_section_display": true,
   "toc_window_display": false
  }
 },
 "nbformat": 4,
 "nbformat_minor": 4
}
