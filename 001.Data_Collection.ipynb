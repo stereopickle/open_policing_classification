{
 "cells": [
  {
   "cell_type": "markdown",
   "metadata": {},
   "source": [
    "# Data Collection\n",
    "Data collected from Standford's Open Policing database.  \n",
    "(https://openpolicing.stanford.edu/data/)"
   ]
  },
  {
   "cell_type": "code",
   "execution_count": 26,
   "metadata": {},
   "outputs": [],
   "source": [
    "import pandas as pd\n",
    "import numpy as np\n",
    "from bs4 import BeautifulSoup\n",
    "from io import BytesIO\n",
    "from zipfile import ZipFile\n",
    "import requests\n",
    "from urllib.request import urlopen"
   ]
  },
  {
   "cell_type": "markdown",
   "metadata": {},
   "source": [
    "## Getting file links\n",
    "I'll first scrape all csv zip file urls from the website."
   ]
  },
  {
   "cell_type": "code",
   "execution_count": 27,
   "metadata": {},
   "outputs": [],
   "source": [
    "html_page = requests.get('https://openpolicing.stanford.edu/data/')\n",
    "soup = BeautifulSoup(html_page.content, 'html.parser')\n",
    "file_urls = soup.findAll('a', title = 'Download data as CSV')\n",
    "links = [link.get('href') for link in file_urls]"
   ]
  },
  {
   "cell_type": "markdown",
   "metadata": {},
   "source": [
    "## Download and compile\n",
    "I'll iterate through each zip file, download, unzip, open csv and filter only data from 2015 (to keep the data at manageable size)."
   ]
  },
  {
   "cell_type": "code",
   "execution_count": null,
   "metadata": {},
   "outputs": [
    {
     "name": "stdout",
     "output_type": "stream",
     "text": [
      "ar_little_rock_2020_04_01.csv Completed\n"
     ]
    }
   ],
   "source": [
    "full_df = pd.DataFrame()\n",
    "\n",
    "for link in links:\n",
    "    # open url\n",
    "    resp = urlopen(link)\n",
    "    # read zipfile\n",
    "    zipfile = ZipFile(BytesIO(resp.read()))\n",
    "    # get the csv file name\n",
    "    fname = zipfile.namelist()[0]\n",
    "    # convert to pandas dateframe\n",
    "    df = pd.read_csv(zipfile.open(fname), dtype=object)\n",
    "    # close file\n",
    "    zipfile.close()\n",
    "    # convert date string to datetime object\n",
    "    df.date = pd.to_datetime(df.date)\n",
    "    # filter dataframe\n",
    "    df = df[(df.date > '2015-01-01') & (df.date < '2016-01-01')]\n",
    "    # then only sample 5000\n",
    "    if len(df) >= 5000:\n",
    "        df = df.sample(5000)\n",
    "    # add fname to use later to grab location info\n",
    "    df['fname'] = fname\n",
    "    # concat\n",
    "    full_df = pd.concat([full_df, df], ignore_index=True, sort=False)\n",
    "    # let me know where you are\n",
    "    print(f'{fname} Completed')"
   ]
  },
  {
   "cell_type": "code",
   "execution_count": null,
   "metadata": {},
   "outputs": [],
   "source": []
  }
 ],
 "metadata": {
  "kernelspec": {
   "display_name": "Python 3",
   "language": "python",
   "name": "python3"
  },
  "language_info": {
   "codemirror_mode": {
    "name": "ipython",
    "version": 3
   },
   "file_extension": ".py",
   "mimetype": "text/x-python",
   "name": "python",
   "nbconvert_exporter": "python",
   "pygments_lexer": "ipython3",
   "version": "3.7.4"
  }
 },
 "nbformat": 4,
 "nbformat_minor": 2
}
