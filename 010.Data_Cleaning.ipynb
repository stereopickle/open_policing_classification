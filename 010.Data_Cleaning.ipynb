{
 "cells": [
  {
   "cell_type": "markdown",
   "metadata": {},
   "source": [
    "# Data Cleaning\n",
    "In this notebook, I'll look at the data and deal with missing values. Also excluding dataset with data quality deemed suspicious based on the original document (https://github.com/stanford-policylab/opp/blob/master/data_readme.md)"
   ]
  },
  {
   "cell_type": "code",
   "execution_count": 1,
   "metadata": {},
   "outputs": [],
   "source": [
    "import pandas as pd\n",
    "import numpy as np\n",
    "\n",
    "pd.set_option('precision', 4)\n",
    "pd.options.display.max_seq_items = None\n",
    "pd.options.display.max_columns = 50"
   ]
  },
  {
   "cell_type": "code",
   "execution_count": 2,
   "metadata": {},
   "outputs": [],
   "source": [
    "df0 = pd.read_csv('DATA/full_df.csv', index_col = 0, dtype = object)"
   ]
  },
  {
   "cell_type": "code",
   "execution_count": 3,
   "metadata": {},
   "outputs": [],
   "source": [
    "#df.columns"
   ]
  },
  {
   "cell_type": "code",
   "execution_count": 4,
   "metadata": {},
   "outputs": [],
   "source": [
    "# lower case columns to make it searchable\n",
    "df0.columns = [x.lower() for x in df0.columns]"
   ]
  },
  {
   "cell_type": "markdown",
   "metadata": {},
   "source": [
    "## Raw Data\n",
    "Raw data are original data. I'll separate these out since we may not need to use it."
   ]
  },
  {
   "cell_type": "code",
   "execution_count": 5,
   "metadata": {},
   "outputs": [],
   "source": [
    "RAW = df0[df0.columns[df0.columns.str.startswith('raw')]]"
   ]
  },
  {
   "cell_type": "code",
   "execution_count": 6,
   "metadata": {},
   "outputs": [],
   "source": [
    "df = df0.drop(RAW[1:], axis = 1)"
   ]
  },
  {
   "cell_type": "markdown",
   "metadata": {},
   "source": [
    "## Missing values & Subsetting Data\n",
    "There are many missing values. I'll use outcome as a target variable and drop missing outcome (should not infer target variable)."
   ]
  },
  {
   "cell_type": "code",
   "execution_count": 7,
   "metadata": {},
   "outputs": [
    {
     "data": {
      "text/plain": [
       "103262"
      ]
     },
     "execution_count": 7,
     "metadata": {},
     "output_type": "execute_result"
    }
   ],
   "source": [
    "df.outcome.isnull().sum()"
   ]
  },
  {
   "cell_type": "code",
   "execution_count": 8,
   "metadata": {},
   "outputs": [
    {
     "data": {
      "text/plain": [
       "citation    193921\n",
       "warning      96064\n",
       "arrest       10431\n",
       "summons       2580\n",
       "Name: outcome, dtype: int64"
      ]
     },
     "execution_count": 8,
     "metadata": {},
     "output_type": "execute_result"
    }
   ],
   "source": [
    "df.outcome.value_counts()"
   ]
  },
  {
   "cell_type": "code",
   "execution_count": 9,
   "metadata": {},
   "outputs": [],
   "source": [
    "df = df.dropna(subset = ['outcome'])"
   ]
  },
  {
   "cell_type": "markdown",
   "metadata": {},
   "source": [
    "Some columnns are just breakdown of outcome. I'll remove those."
   ]
  },
  {
   "cell_type": "code",
   "execution_count": 10,
   "metadata": {},
   "outputs": [],
   "source": [
    "df = df.drop(['citation_issued', 'warning_issued', 'arrest_made'], axis = 1)"
   ]
  },
  {
   "cell_type": "markdown",
   "metadata": {},
   "source": [
    "Some columns are post-outcome occurrences, I'll remove those."
   ]
  },
  {
   "cell_type": "code",
   "execution_count": 11,
   "metadata": {},
   "outputs": [],
   "source": [
    "df = df.drop(['reason_for_arrest'], axis = 1)"
   ]
  },
  {
   "cell_type": "markdown",
   "metadata": {},
   "source": [
    "Hardfort, CT dataset was considered 'suspicious' by others who have made the cleaned individual dataset from raw data. I'll remove those."
   ]
  },
  {
   "cell_type": "code",
   "execution_count": 12,
   "metadata": {},
   "outputs": [],
   "source": [
    "df = df.loc[df.fname != 'ct_hartford_2020_04_01.csv',:]"
   ]
  },
  {
   "cell_type": "markdown",
   "metadata": {},
   "source": [
    "Remove a column if it's missing majority of the data."
   ]
  },
  {
   "cell_type": "code",
   "execution_count": 13,
   "metadata": {},
   "outputs": [],
   "source": [
    "df = df.drop(df.columns[df.isnull().sum() > (len(df)/2)], axis = 1)"
   ]
  },
  {
   "cell_type": "markdown",
   "metadata": {},
   "source": [
    "Remove the entire location if the location misses majority of race and sex information."
   ]
  },
  {
   "cell_type": "code",
   "execution_count": 14,
   "metadata": {},
   "outputs": [],
   "source": [
    "tmp = df.groupby('fname').agg({\n",
    "                        'subject_race': lambda x: x.isnull().sum()/len(x), \n",
    "                        'subject_sex': lambda x: x.isnull().sum()/len(x)})"
   ]
  },
  {
   "cell_type": "code",
   "execution_count": 15,
   "metadata": {},
   "outputs": [],
   "source": [
    "to_remove = list(tmp[(tmp.subject_race > 0.5) | (tmp.subject_sex > 0.5)].index)"
   ]
  },
  {
   "cell_type": "code",
   "execution_count": 16,
   "metadata": {},
   "outputs": [],
   "source": [
    "df = df[~df.fname.isin(to_remove)]"
   ]
  },
  {
   "cell_type": "markdown",
   "metadata": {},
   "source": [
    "Remove all info with missing race and sex information (key predictor without means to infer value)"
   ]
  },
  {
   "cell_type": "code",
   "execution_count": 17,
   "metadata": {},
   "outputs": [],
   "source": [
    "df = df.dropna(subset = ['subject_race', 'subject_sex'])"
   ]
  },
  {
   "cell_type": "markdown",
   "metadata": {},
   "source": [
    "For the purpose of this analysis, I'll drop rows if subject age and violation is missing."
   ]
  },
  {
   "cell_type": "code",
   "execution_count": 18,
   "metadata": {},
   "outputs": [],
   "source": [
    "df = df.dropna(subset = ['subject_age', 'violation'])"
   ]
  },
  {
   "cell_type": "markdown",
   "metadata": {},
   "source": [
    "Fill missing time with average hour"
   ]
  },
  {
   "cell_type": "code",
   "execution_count": 19,
   "metadata": {},
   "outputs": [],
   "source": [
    "# fill time with average hour\n",
    "hour = str(int(df.time.dropna().apply(lambda x: int(x[:2])).mean()))\n",
    "df.time = df.time.fillna(f'{hour}:00:00')"
   ]
  },
  {
   "cell_type": "markdown",
   "metadata": {},
   "source": [
    "Get city/state from fname and remove location."
   ]
  },
  {
   "cell_type": "code",
   "execution_count": 20,
   "metadata": {},
   "outputs": [],
   "source": [
    "df['state'] = [x.split('_')[0] for x in df.fname]\n",
    "df['city'] = [x[:-15][3:] for x in df.fname]"
   ]
  },
  {
   "cell_type": "code",
   "execution_count": 21,
   "metadata": {},
   "outputs": [],
   "source": [
    "df = df.drop('location', axis = 1)"
   ]
  },
  {
   "cell_type": "code",
   "execution_count": 22,
   "metadata": {},
   "outputs": [],
   "source": [
    "df = df.drop('fname', axis = 1)"
   ]
  },
  {
   "cell_type": "markdown",
   "metadata": {},
   "source": [
    "For missing lat/long, impute the general location from the city info."
   ]
  },
  {
   "cell_type": "code",
   "execution_count": 23,
   "metadata": {},
   "outputs": [],
   "source": [
    "from geopy.geocoders import Nominatim\n",
    "\n",
    "def get_lat_long(location):\n",
    "    geolocator = Nominatim(user_agent = \"open_polici_dat\")\n",
    "    location = geolocator.geocode(location)\n",
    "    return (location.latitude, location.longitude)    "
   ]
  },
  {
   "cell_type": "code",
   "execution_count": 24,
   "metadata": {},
   "outputs": [],
   "source": [
    "df['location'] = np.where(df['city'] == 'statewide', df['state'], df['city'] + ', ' + df['state'])"
   ]
  },
  {
   "cell_type": "code",
   "execution_count": 33,
   "metadata": {},
   "outputs": [
    {
     "name": "stdout",
     "output_type": "stream",
     "text": [
      "error: oklahoma_city, ok\n"
     ]
    }
   ],
   "source": [
    "locations = set(df.location)\n",
    "all_loc = dict.fromkeys(locations, ())\n",
    "\n",
    "for loc in locations:\n",
    "    try:\n",
    "        all_loc[loc] = get_lat_long(loc)\n",
    "    except AttributeError:\n",
    "        print(f'error: {loc}')\n",
    "        "
   ]
  },
  {
   "cell_type": "code",
   "execution_count": 34,
   "metadata": {},
   "outputs": [],
   "source": [
    "all_loc['oklahoma_city, ok'] = get_lat_long('Oklahoma City, OK')"
   ]
  },
  {
   "cell_type": "code",
   "execution_count": 35,
   "metadata": {},
   "outputs": [],
   "source": [
    "df['lat'] = df.location.apply(lambda x: all_loc[x][0])\n",
    "df['lng'] = df.location.apply(lambda x: all_loc[x][1])"
   ]
  },
  {
   "cell_type": "markdown",
   "metadata": {},
   "source": [
    "For search conducted, I'll add unknown as category for missing values."
   ]
  },
  {
   "cell_type": "code",
   "execution_count": 36,
   "metadata": {},
   "outputs": [],
   "source": [
    "df.search_conducted = df.search_conducted.fillna('unknown')"
   ]
  },
  {
   "cell_type": "markdown",
   "metadata": {},
   "source": [
    "For types, if I find vehicular related words from violation I'll put vehicular, otherwise I'll put 'others'."
   ]
  },
  {
   "cell_type": "code",
   "execution_count": 37,
   "metadata": {},
   "outputs": [],
   "source": [
    "df['violation'] = df.violation.apply(lambda x: x.lower())"
   ]
  },
  {
   "cell_type": "code",
   "execution_count": 38,
   "metadata": {},
   "outputs": [],
   "source": [
    "vehic_list_ = ['veh', 'ticket', 'traf', 'dmv', 'belt', 'speed', 'stop sign', 'dui', \n",
    "         'registration', 'parking', 'driv', 'yield', 'insurance', 'right of way', 'oper', 'fast',\n",
    "              'bicycle', 'phone', 'lane', 'helmet', 'oneway', 'lighting', 'stop/stand', 'reg', 'backing',\n",
    "               'highway', 'light', 'over height', 'freeway', 'license', 'hydrant', 'turn', 'safety chain']\n",
    "df['vehicular_indicator'] = df.violation.apply(lambda x: any(vehic_list_ in x for vehic_list_ in vehic_list_))"
   ]
  },
  {
   "cell_type": "code",
   "execution_count": 39,
   "metadata": {},
   "outputs": [],
   "source": [
    "df['type'] = np.where((df.type.isnull()) & (df.vehicular_indicator), 'vehicular', df.type)"
   ]
  },
  {
   "cell_type": "code",
   "execution_count": 40,
   "metadata": {},
   "outputs": [],
   "source": [
    "ped_list = ['pedest', 'public', 'in park', 'walk', 'larceny', 'tresp', 'shoplift', 'curfew',\n",
    "            'gathering', 'disorderly conduct', 'street', 'closed park', 'touching', 'theft', 'outdoors']\n",
    "df['pedestrian_indicator'] = df.violation.apply(lambda x: any(ped_list in x for ped_list in ped_list))\n",
    "df['type'] = np.where((df.type.isnull()) & (df.pedestrian_indicator), 'pedestrian', df.type)"
   ]
  },
  {
   "cell_type": "code",
   "execution_count": 41,
   "metadata": {},
   "outputs": [],
   "source": [
    "df.type = df['type'].fillna('others')"
   ]
  },
  {
   "cell_type": "markdown",
   "metadata": {},
   "source": [
    "### Data Type\n",
    "Let's check the final data types to find any abnormalities."
   ]
  },
  {
   "cell_type": "code",
   "execution_count": 42,
   "metadata": {},
   "outputs": [],
   "source": [
    "#df.info()"
   ]
  },
  {
   "cell_type": "markdown",
   "metadata": {},
   "source": [
    "Age shouldn't be an object. Let's check the values."
   ]
  },
  {
   "cell_type": "code",
   "execution_count": 43,
   "metadata": {},
   "outputs": [],
   "source": [
    "#df.subject_age.unique()\n",
    "df.subject_age = df.subject_age.astype('int64')"
   ]
  },
  {
   "cell_type": "markdown",
   "metadata": {},
   "source": [
    "### Violations\n",
    "From violation texts, I'll try to identify indication for different violation types and add as columns."
   ]
  },
  {
   "cell_type": "code",
   "execution_count": 83,
   "metadata": {},
   "outputs": [],
   "source": [
    "import string\n",
    "\n",
    "# removing special characters and digits\n",
    "#trans = str.maketrans('', '', string.punctuation+string.digits)\n",
    "exclist = string.punctuation + string.digits\n",
    "trans = str.maketrans(exclist, ' '*len(exclist))\n",
    "\n",
    "\n",
    "df['violation_split'] = [x.translate(trans).split() for x in df.violation]"
   ]
  },
  {
   "cell_type": "code",
   "execution_count": 84,
   "metadata": {},
   "outputs": [],
   "source": [
    "# first, figuring out frequent words\n",
    "from itertools import chain\n",
    "all_texts = list(chain(*df['violation_split']))"
   ]
  },
  {
   "cell_type": "code",
   "execution_count": 85,
   "metadata": {},
   "outputs": [],
   "source": [
    "from collections import Counter\n",
    "freq_words = dict(Counter(all_texts).most_common())"
   ]
  },
  {
   "cell_type": "code",
   "execution_count": 93,
   "metadata": {},
   "outputs": [
    {
     "data": {
      "text/plain": [
       "[('mph', TextBlob(\"may\")),\n",
       " ('nrs', TextBlob(\"mrs\")),\n",
       " ('muni', TextBlob(\"mundi\")),\n",
       " ('radar', TextBlob(\"rear\")),\n",
       " ('oper', TextBlob(\"over\")),\n",
       " ('sp', TextBlob(\"s\")),\n",
       " ('req', TextBlob(\"red\")),\n",
       " ('ftc', TextBlob(\"etc\")),\n",
       " ('ins', TextBlob(\"in\")),\n",
       " ('dl', TextBlob(\"do\")),\n",
       " ('lt', TextBlob(\"it\")),\n",
       " ('cam', TextBlob(\"can\")),\n",
       " ('veh', TextBlob(\"ve\")),\n",
       " ('susp', TextBlob(\"sup\")),\n",
       " ('vni', TextBlob(\"vi\")),\n",
       " ('vt', TextBlob(\"it\")),\n",
       " ('unregistered', TextBlob(\"registered\")),\n",
       " ('sl', TextBlob(\"s\")),\n",
       " ('dui', TextBlob(\"due\")),\n",
       " ('aa', TextBlob(\"a\")),\n",
       " ('reg', TextBlob(\"red\")),\n",
       " ('viol', TextBlob(\"vol\")),\n",
       " ('evid', TextBlob(\"evil\")),\n",
       " ('fincial', TextBlob(\"final\")),\n",
       " ('resp', TextBlob(\"rest\")),\n",
       " ('zz', TextBlob(\"ze\")),\n",
       " ('revok', TextBlob(\"revolt\")),\n",
       " ('tabs', TextBlob(\"tabes\")),\n",
       " ('traf', TextBlob(\"trap\")),\n",
       " ('unsafe', TextBlob(\"safe\")),\n",
       " ('lic', TextBlob(\"lie\")),\n",
       " ('poss', TextBlob(\"pass\")),\n",
       " ('exp', TextBlob(\"ex\")),\n",
       " ('mv', TextBlob(\"my\")),\n",
       " ('revocation', TextBlob(\"revolution\")),\n",
       " ('mobl', TextBlob(\"mob\")),\n",
       " ('hom', TextBlob(\"him\")),\n",
       " ('nr', TextBlob(\"or\")),\n",
       " ('osc', TextBlob(\"os\")),\n",
       " ('canc', TextBlob(\"can\")),\n",
       " ('sticker', TextBlob(\"stick\")),\n",
       " ('alc', TextBlob(\"all\")),\n",
       " ('ir', TextBlob(\"in\")),\n",
       " ('unlaw', TextBlob(\"law\")),\n",
       " ('dev', TextBlob(\"de\")),\n",
       " ('cty', TextBlob(\"city\")),\n",
       " ('moped', TextBlob(\"moved\")),\n",
       " ('roadways', TextBlob(\"roadway\")),\n",
       " ('cont', TextBlob(\"count\")),\n",
       " ('cel', TextBlob(\"cell\")),\n",
       " ('sigl', TextBlob(\"sign\")),\n",
       " ('dept', TextBlob(\"kept\")),\n",
       " ('res', TextBlob(\"yes\")),\n",
       " ('unknow', TextBlob(\"unknown\")),\n",
       " ('improp', TextBlob(\"improve\")),\n",
       " ('sigls', TextBlob(\"signs\")),\n",
       " ('yld', TextBlob(\"old\")),\n",
       " ('dp', TextBlob(\"up\")),\n",
       " ('fty', TextBlob(\"fly\")),\n",
       " ('intersection', TextBlob(\"intervention\")),\n",
       " ('contr', TextBlob(\"contra\")),\n",
       " ('laned', TextBlob(\"land\")),\n",
       " ('deg', TextBlob(\"de\")),\n",
       " ('sig', TextBlob(\"fig\")),\n",
       " ('mtr', TextBlob(\"mr\")),\n",
       " ('fyy', TextBlob(\"fly\")),\n",
       " ('lk', TextBlob(\"ll\")),\n",
       " ('temp', TextBlob(\"hemp\")),\n",
       " ('sec', TextBlob(\"see\")),\n",
       " ('larceny', TextBlob(\"largely\")),\n",
       " ('rcpt', TextBlob(\"rapt\")),\n",
       " ('conv', TextBlob(\"cone\")),\n",
       " ('rk', TextBlob(\"re\")),\n",
       " ('driv', TextBlob(\"drive\")),\n",
       " ('ln', TextBlob(\"in\")),\n",
       " ('sus', TextBlob(\"us\")),\n",
       " ('agg', TextBlob(\"age\")),\n",
       " ('circum', TextBlob(\"circus\")),\n",
       " ('bicycles', TextBlob(\"bicycle\")),\n",
       " ('aab', TextBlob(\"cab\")),\n",
       " ('rdwys', TextBlob(\"days\")),\n",
       " ('cmv', TextBlob(\"cm\")),\n",
       " ('adrs', TextBlob(\"adds\")),\n",
       " ('tcs', TextBlob(\"tis\")),\n",
       " ('intersections', TextBlob(\"intersecting\")),\n",
       " ('tcd', TextBlob(\"ted\")),\n",
       " ('hmc', TextBlob(\"hm\")),\n",
       " ('hov', TextBlob(\"how\")),\n",
       " ('dlt', TextBlob(\"dot\")),\n",
       " ('handheld', TextBlob(\"handed\")),\n",
       " ('pasngr', TextBlob(\"pang\")),\n",
       " ('hwy', TextBlob(\"why\")),\n",
       " ('lim', TextBlob(\"him\")),\n",
       " ('attentio', TextBlob(\"attention\")),\n",
       " ('dir', TextBlob(\"did\")),\n",
       " ('influ', TextBlob(\"influx\")),\n",
       " ('investigative', TextBlob(\"investigation\")),\n",
       " ('parked', TextBlob(\"marked\")),\n",
       " ('desigted', TextBlob(\"designed\")),\n",
       " ('drvr', TextBlob(\"door\")),\n",
       " ('crosswalk', TextBlob(\"crossway\")),\n",
       " ('ped', TextBlob(\"red\")),\n",
       " ('brakes', TextBlob(\"rakes\")),\n",
       " ('thru', TextBlob(\"thou\")),\n",
       " ('uninsured', TextBlob(\"uninjured\")),\n",
       " ('meter', TextBlob(\"peter\")),\n",
       " ('revoke', TextBlob(\"revoked\")),\n",
       " ('axle', TextBlob(\"able\")),\n",
       " ('rt', TextBlob(\"it\")),\n",
       " ('misdemeanor', TextBlob(\"misdemeanors\")),\n",
       " ('markers', TextBlob(\"markets\")),\n",
       " ('loiter', TextBlob(\"leiter\")),\n",
       " ('intersec', TextBlob(\"intersect\")),\n",
       " ('fs', TextBlob(\"is\")),\n",
       " ('taillight', TextBlob(\"twilight\")),\n",
       " ('straddling', TextBlob(\"straggling\")),\n",
       " ('misuse', TextBlob(\"disuse\")),\n",
       " ('inclement', TextBlob(\"incitement\")),\n",
       " ('booster', TextBlob(\"bolster\")),\n",
       " ('rw', TextBlob(\"re\")),\n",
       " ('givi', TextBlob(\"give\")),\n",
       " ('muffler', TextBlob(\"muffled\")),\n",
       " ('requremnents', TextBlob(\"requirements\")),\n",
       " ('specifications', TextBlob(\"specification\")),\n",
       " ('knowingly', TextBlob(\"knowing\")),\n",
       " ('pers', TextBlob(\"per\")),\n",
       " ('pedestrains', TextBlob(\"pedestrians\")),\n",
       " ('overweight', TextBlob(\"overnight\")),\n",
       " ('info', TextBlob(\"into\")),\n",
       " ('prostitution', TextBlob(\"restitution\")),\n",
       " ('sch', TextBlob(\"such\")),\n",
       " ('sups', TextBlob(\"sums\")),\n",
       " ('fyl', TextBlob(\"fly\")),\n",
       " ('sigling', TextBlob(\"sighing\")),\n",
       " ('vr', TextBlob(\"or\")),\n",
       " ('pna', TextBlob(\"pa\")),\n",
       " ('mos', TextBlob(\"most\")),\n",
       " ('citation', TextBlob(\"situation\")),\n",
       " ('voided', TextBlob(\"avoided\")),\n",
       " ('orr', TextBlob(\"or\")),\n",
       " ('emer', TextBlob(\"ever\")),\n",
       " ('forc', TextBlob(\"for\")),\n",
       " ('fel', TextBlob(\"felt\")),\n",
       " ('instructional', TextBlob(\"instructions\")),\n",
       " ('marijua', TextBlob(\"maria\")),\n",
       " ('lv', TextBlob(\"ll\")),\n",
       " ('unlawfully', TextBlob(\"unlawful\")),\n",
       " ('comm', TextBlob(\"come\")),\n",
       " ('dmv', TextBlob(\"my\")),\n",
       " ('wrecker', TextBlob(\"wrecked\")),\n",
       " ('unspecified', TextBlob(\"specified\")),\n",
       " ('afc', TextBlob(\"arc\")),\n",
       " ('neg', TextBlob(\"new\")),\n",
       " ('bac', TextBlob(\"back\")),\n",
       " ('rds', TextBlob(\"rd\")),\n",
       " ('prohib', TextBlob(\"profit\")),\n",
       " ('traff', TextBlob(\"trade\")),\n",
       " ('dmg', TextBlob(\"dog\")),\n",
       " ('priv', TextBlob(\"prim\")),\n",
       " ('wireless', TextBlob(\"tireless\")),\n",
       " ('illumited', TextBlob(\"illumined\")),\n",
       " ('pr', TextBlob(\"or\")),\n",
       " ('crim', TextBlob(\"crime\")),\n",
       " ('mf', TextBlob(\"of\")),\n",
       " ('bldg', TextBlob(\"old\")),\n",
       " ('drway', TextBlob(\"way\")),\n",
       " ('instructiol', TextBlob(\"instruction\")),\n",
       " ('gi', TextBlob(\"i\")),\n",
       " ('reflector', TextBlob(\"reflected\")),\n",
       " ('tresp', TextBlob(\"tres\")),\n",
       " ('messaging', TextBlob(\"essaying\")),\n",
       " ('hazd', TextBlob(\"had\")),\n",
       " ('erase', TextBlob(\"ease\")),\n",
       " ('bld', TextBlob(\"old\")),\n",
       " ('alch', TextBlob(\"arch\")),\n",
       " ('texting', TextBlob(\"testing\")),\n",
       " ('synthetic', TextBlob(\"synthesis\")),\n",
       " ('fcc', TextBlob(\"for\")),\n",
       " ('designated', TextBlob(\"designate\")),\n",
       " ('validation', TextBlob(\"variation\")),\n",
       " ('opr', TextBlob(\"or\")),\n",
       " ('obscur', TextBlob(\"obscure\")),\n",
       " ('defaced', TextBlob(\"defined\")),\n",
       " ('rdwy', TextBlob(\"dwy\")),\n",
       " ('overtime', TextBlob(\"overcome\")),\n",
       " ('divider', TextBlob(\"divided\")),\n",
       " ('gms', TextBlob(\"gas\")),\n",
       " ('mcr', TextBlob(\"mr\")),\n",
       " ('barricades', TextBlob(\"barricaded\")),\n",
       " ('yr', TextBlob(\"or\")),\n",
       " ('tampering', TextBlob(\"tapering\")),\n",
       " ('illumite', TextBlob(\"illumined\")),\n",
       " ('tl', TextBlob(\"to\")),\n",
       " ('flr', TextBlob(\"for\")),\n",
       " ('accomp', TextBlob(\"accord\")),\n",
       " ('rr', TextBlob(\"or\")),\n",
       " ('requir', TextBlob(\"require\")),\n",
       " ('extinguisher', TextBlob(\"extinguished\")),\n",
       " ('pl', TextBlob(\"ll\")),\n",
       " ('spv', TextBlob(\"spy\")),\n",
       " ('ows', TextBlob(\"own\")),\n",
       " ('cancelled', TextBlob(\"canceled\")),\n",
       " ('viola', TextBlob(\"villa\")),\n",
       " ('exiting', TextBlob(\"existing\")),\n",
       " ('trucks', TextBlob(\"trunks\")),\n",
       " ('lft', TextBlob(\"left\")),\n",
       " ('placard', TextBlob(\"placed\")),\n",
       " ('purch', TextBlob(\"porch\")),\n",
       " ('txd', TextBlob(\"txt\")),\n",
       " ('liscence', TextBlob(\"licence\")),\n",
       " ('tinting', TextBlob(\"tilting\")),\n",
       " ('nonres', TextBlob(\"notres\")),\n",
       " ('decal', TextBlob(\"deal\")),\n",
       " ('cs', TextBlob(\"is\")),\n",
       " ('liq', TextBlob(\"lie\")),\n",
       " ('chg', TextBlob(\"ch\")),\n",
       " ('engr', TextBlob(\"entr\")),\n",
       " ('obscuring', TextBlob(\"obscurity\")),\n",
       " ('firearm', TextBlob(\"forearm\")),\n",
       " ('littering', TextBlob(\"glittering\")),\n",
       " ('analog', TextBlob(\"analogy\")),\n",
       " ('emergen', TextBlob(\"emerged\")),\n",
       " ('fyp', TextBlob(\"ftp\")),\n",
       " ('fye', TextBlob(\"eye\")),\n",
       " ('unauth', TextBlob(\"untruth\")),\n",
       " ('addr', TextBlob(\"add\")),\n",
       " ('prohibi', TextBlob(\"prohibit\")),\n",
       " ('evading', TextBlob(\"evening\")),\n",
       " ('mc', TextBlob(\"my\")),\n",
       " ('oc', TextBlob(\"of\")),\n",
       " ('tx', TextBlob(\"to\")),\n",
       " ('resi', TextBlob(\"rest\")),\n",
       " ('circumvent', TextBlob(\"circumvented\")),\n",
       " ('pav', TextBlob(\"pay\")),\n",
       " ('stickers', TextBlob(\"sticks\")),\n",
       " ('functioning', TextBlob(\"sanctioning\")),\n",
       " ('minors', TextBlob(\"minor\")),\n",
       " ('unruly', TextBlob(\"unduly\")),\n",
       " ('yeild', TextBlob(\"yield\")),\n",
       " ('inoper', TextBlob(\"inner\")),\n",
       " ('cdl', TextBlob(\"col\")),\n",
       " ('reqmts', TextBlob(\"rests\")),\n",
       " ('lettering', TextBlob(\"entering\")),\n",
       " ('aei', TextBlob(\"aet\")),\n",
       " ('esa', TextBlob(\"sea\")),\n",
       " ('lbk', TextBlob(\"lb\")),\n",
       " ('scooter', TextBlob(\"sooner\")),\n",
       " ('preferential', TextBlob(\"deferential\")),\n",
       " ('respon', TextBlob(\"respond\")),\n",
       " ('reflectors', TextBlob(\"electors\")),\n",
       " ('evasion', TextBlob(\"invasion\")),\n",
       " ('grams', TextBlob(\"grass\")),\n",
       " ('crimil', TextBlob(\"civil\")),\n",
       " ('othe', TextBlob(\"the\")),\n",
       " ('roadwa', TextBlob(\"roadway\")),\n",
       " ('rightor', TextBlob(\"right\")),\n",
       " ('dbl', TextBlob(\"del\")),\n",
       " ('acc', TextBlob(\"act\")),\n",
       " ('accom', TextBlob(\"accord\")),\n",
       " ('unpaved', TextBlob(\"unpaid\")),\n",
       " ('inf', TextBlob(\"in\")),\n",
       " ('separ', TextBlob(\"spear\")),\n",
       " ('lites', TextBlob(\"lines\")),\n",
       " ('int', TextBlob(\"in\")),\n",
       " ('assistanc', TextBlob(\"assistance\")),\n",
       " ('homicide', TextBlob(\"homicidal\")),\n",
       " ('tolerance', TextBlob(\"tolerable\")),\n",
       " ('tab', TextBlob(\"tax\")),\n",
       " ('obst', TextBlob(\"obs\")),\n",
       " ('slicense', TextBlob(\"license\")),\n",
       " ('lop', TextBlob(\"low\")),\n",
       " ('nac', TextBlob(\"sac\")),\n",
       " ('notification', TextBlob(\"ratification\")),\n",
       " ('ocd', TextBlob(\"old\")),\n",
       " ('carr', TextBlob(\"care\")),\n",
       " ('gore', TextBlob(\"more\")),\n",
       " ('pk', TextBlob(\"pp\")),\n",
       " ('mech', TextBlob(\"much\")),\n",
       " ('mufflers', TextBlob(\"suffers\")),\n",
       " ('lbs', TextBlob(\"les\")),\n",
       " ('unapproved', TextBlob(\"approved\")),\n",
       " ('yoa', TextBlob(\"you\")),\n",
       " ('reportable', TextBlob(\"portable\")),\n",
       " ('dsl', TextBlob(\"del\")),\n",
       " ('directional', TextBlob(\"direction\")),\n",
       " ('psb', TextBlob(\"pub\")),\n",
       " ('isl', TextBlob(\"is\")),\n",
       " ('curfew', TextBlob(\"cure\")),\n",
       " ('freeway', TextBlob(\"freely\")),\n",
       " ('combition', TextBlob(\"condition\")),\n",
       " ('occpancy', TextBlob(\"occupancy\")),\n",
       " ('misd', TextBlob(\"mind\")),\n",
       " ('redlight', TextBlob(\"delight\")),\n",
       " ('pos', TextBlob(\"pus\")),\n",
       " ('disqual', TextBlob(\"distal\")),\n",
       " ('div', TextBlob(\"did\")),\n",
       " ('withlic', TextBlob(\"within\")),\n",
       " ('yrow', TextBlob(\"grow\")),\n",
       " ('trailers', TextBlob(\"trailer\")),\n",
       " ('silencer', TextBlob(\"silence\")),\n",
       " ('handgun', TextBlob(\"handful\")),\n",
       " ('yrs', TextBlob(\"yes\")),\n",
       " ('ot', TextBlob(\"of\")),\n",
       " ('fmfr', TextBlob(\"for\")),\n",
       " ('trc', TextBlob(\"try\")),\n",
       " ('urinating', TextBlob(\"printing\")),\n",
       " ('defecating', TextBlob(\"defeating\")),\n",
       " ('coupling', TextBlob(\"counting\")),\n",
       " ('spcng', TextBlob(\"spent\")),\n",
       " ('curr', TextBlob(\"cure\")),\n",
       " ('xwalk', TextBlob(\"walk\")),\n",
       " ('hydrant', TextBlob(\"tyrant\")),\n",
       " ('roadyway', TextBlob(\"roadway\")),\n",
       " ('pss', TextBlob(\"pus\")),\n",
       " ('polluting', TextBlob(\"pouting\")),\n",
       " ('diplay', TextBlob(\"display\")),\n",
       " ('schoolbus', TextBlob(\"schools\")),\n",
       " ('spilling', TextBlob(\"spelling\")),\n",
       " ('autorities', TextBlob(\"authorities\")),\n",
       " ('sz', TextBlob(\"s\")),\n",
       " ('amt', TextBlob(\"at\")),\n",
       " ('inj', TextBlob(\"in\")),\n",
       " ('bef', TextBlob(\"be\")),\n",
       " ('oncom', TextBlob(\"once\")),\n",
       " ('alcoh', TextBlob(\"also\")),\n",
       " ('revoc', TextBlob(\"revolt\")),\n",
       " ('unattend', TextBlob(\"attend\")),\n",
       " ('protec', TextBlob(\"protect\")),\n",
       " ('tbut', TextBlob(\"but\")),\n",
       " ('disp', TextBlob(\"dish\")),\n",
       " ('atv', TextBlob(\"at\")),\n",
       " ('mecing', TextBlob(\"being\")),\n",
       " ('pmt', TextBlob(\"put\")),\n",
       " ('idequate', TextBlob(\"adequate\")),\n",
       " ('ow', TextBlob(\"of\")),\n",
       " ('carless', TextBlob(\"careless\")),\n",
       " ('ds', TextBlob(\"is\")),\n",
       " ('inor', TextBlob(\"nor\")),\n",
       " ('plaza', TextBlob(\"place\")),\n",
       " ('parkway', TextBlob(\"parkman\")),\n",
       " ('lbr', TextBlob(\"lb\")),\n",
       " ('fso', TextBlob(\"so\")),\n",
       " ('fss', TextBlob(\"fuss\")),\n",
       " ('nlp', TextBlob(\"nap\")),\n",
       " ('esd', TextBlob(\"end\")),\n",
       " ('cw', TextBlob(\"c\")),\n",
       " ('underage', TextBlob(\"undergo\")),\n",
       " ('ddl', TextBlob(\"del\")),\n",
       " ('rqmt', TextBlob(\"rest\")),\n",
       " ('ignition', TextBlob(\"munition\")),\n",
       " ('exhib', TextBlob(\"exit\")),\n",
       " ('reqd', TextBlob(\"red\")),\n",
       " ('cntr', TextBlob(\"entr\")),\n",
       " ('fenders', TextBlob(\"renders\")),\n",
       " ('provisiol', TextBlob(\"provision\")),\n",
       " ('positioned', TextBlob(\"position\")),\n",
       " ('cntrl', TextBlob(\"until\")),\n",
       " ('computation', TextBlob(\"amputation\")),\n",
       " ('allowable', TextBlob(\"allowance\")),\n",
       " ('flammable', TextBlob(\"inflammable\")),\n",
       " ('orally', TextBlob(\"morally\")),\n",
       " ('uttended', TextBlob(\"attended\")),\n",
       " ('ie', TextBlob(\"in\")),\n",
       " ('asz', TextBlob(\"as\")),\n",
       " ('aae', TextBlob(\"are\")),\n",
       " ('cz', TextBlob(\"c\")),\n",
       " ('subsequesnt', TextBlob(\"subsequent\")),\n",
       " ('consum', TextBlob(\"consume\")),\n",
       " ('signage', TextBlob(\"signal\")),\n",
       " ('purp', TextBlob(\"pure\")),\n",
       " ('fac', TextBlob(\"face\")),\n",
       " ('xing', TextBlob(\"king\")),\n",
       " ('bumper', TextBlob(\"jumper\")),\n",
       " ('wt', TextBlob(\"it\")),\n",
       " ('indic', TextBlob(\"india\")),\n",
       " ('vehilce', TextBlob(\"vehicle\")),\n",
       " ('unmarked', TextBlob(\"unmarred\")),\n",
       " ('facil', TextBlob(\"fail\")),\n",
       " ('cops', TextBlob(\"corps\")),\n",
       " ('spd', TextBlob(\"sad\")),\n",
       " ('epo', TextBlob(\"po\")),\n",
       " ('dvo', TextBlob(\"do\")),\n",
       " ('offen', TextBlob(\"often\")),\n",
       " ('offn', TextBlob(\"off\")),\n",
       " ('leav', TextBlob(\"leave\")),\n",
       " ('rndr', TextBlob(\"and\")),\n",
       " ('sj', TextBlob(\"s\")),\n",
       " ('intox', TextBlob(\"into\")),\n",
       " ('uuthorized', TextBlob(\"authorized\")),\n",
       " ('drawbar', TextBlob(\"drawer\")),\n",
       " ('passin', TextBlob(\"passing\")),\n",
       " ('defrauding', TextBlob(\"defraying\")),\n",
       " ('anot', TextBlob(\"not\")),\n",
       " ('prev', TextBlob(\"pre\")),\n",
       " ('indentify', TextBlob(\"identify\")),\n",
       " ('overload', TextBlob(\"overcoat\")),\n",
       " ('outdoors', TextBlob(\"outdoor\")),\n",
       " ('tp', TextBlob(\"to\")),\n",
       " ('tmd', TextBlob(\"tm\")),\n",
       " ('btw', TextBlob(\"bow\")),\n",
       " ('irv', TextBlob(\"iv\")),\n",
       " ('efd', TextBlob(\"end\")),\n",
       " ('mep', TextBlob(\"me\")),\n",
       " ('crs', TextBlob(\"cry\")),\n",
       " ('ws', TextBlob(\"was\")),\n",
       " ('epr', TextBlob(\"per\")),\n",
       " ('pcs', TextBlob(\"pus\")),\n",
       " ('dsw', TextBlob(\"dew\")),\n",
       " ('ocp', TextBlob(\"op\")),\n",
       " ('awd', TextBlob(\"and\")),\n",
       " ('rar', TextBlob(\"war\")),\n",
       " ('por', TextBlob(\"for\")),\n",
       " ('spec', TextBlob(\"speck\")),\n",
       " ('contct', TextBlob(\"contact\")),\n",
       " ('deface', TextBlob(\"defame\")),\n",
       " ('stopsign', TextBlob(\"stopping\")),\n",
       " ('prescript', TextBlob(\"rescript\")),\n",
       " ('busines', TextBlob(\"business\")),\n",
       " ('rsid', TextBlob(\"rid\")),\n",
       " ('struct', TextBlob(\"struck\")),\n",
       " ('backup', TextBlob(\"back\")),\n",
       " ('stoplg', TextBlob(\"stop\")),\n",
       " ('sgnl', TextBlob(\"son\")),\n",
       " ('proj', TextBlob(\"pro\")),\n",
       " ('sirens', TextBlob(\"silent\")),\n",
       " ('az', TextBlob(\"a\")),\n",
       " ('distrb', TextBlob(\"disturb\")),\n",
       " ('grds', TextBlob(\"gods\")),\n",
       " ('grd', TextBlob(\"god\")),\n",
       " ('wgt', TextBlob(\"wet\")),\n",
       " ('strapps', TextBlob(\"straps\")),\n",
       " ('unobstructed', TextBlob(\"obstructed\")),\n",
       " ('mfr', TextBlob(\"mr\")),\n",
       " ('pneumatic', TextBlob(\"rheumatic\")),\n",
       " ('unreasoble', TextBlob(\"unreasonable\")),\n",
       " ('vending', TextBlob(\"sending\")),\n",
       " ('ramp', TextBlob(\"camp\")),\n",
       " ('spped', TextBlob(\"speed\")),\n",
       " ('unequipped', TextBlob(\"equipped\")),\n",
       " ('folowing', TextBlob(\"following\")),\n",
       " ('positioning', TextBlob(\"petitioning\")),\n",
       " ('emmissions', TextBlob(\"commissions\")),\n",
       " ('residency', TextBlob(\"presidency\")),\n",
       " ('metro', TextBlob(\"retro\")),\n",
       " ('vio', TextBlob(\"vi\")),\n",
       " ('oprtng', TextBlob(\"spring\")),\n",
       " ('improprely', TextBlob(\"improperly\")),\n",
       " ('peron', TextBlob(\"person\")),\n",
       " ('possesion', TextBlob(\"possession\")),\n",
       " ('eluding', TextBlob(\"deluding\")),\n",
       " ('cc', TextBlob(\"c\")),\n",
       " ('acz', TextBlob(\"act\")),\n",
       " ('usin', TextBlob(\"using\")),\n",
       " ('chang', TextBlob(\"change\")),\n",
       " ('fb', TextBlob(\"ff\")),\n",
       " ('aaa', TextBlob(\"ana\")),\n",
       " ('tailligh', TextBlob(\"tallish\")),\n",
       " ('oneway', TextBlob(\"newly\")),\n",
       " ('aai', TextBlob(\"ami\")),\n",
       " ('rst', TextBlob(\"rest\")),\n",
       " ('devi', TextBlob(\"devil\")),\n",
       " ('aac', TextBlob(\"sac\")),\n",
       " ('ya', TextBlob(\"a\")),\n",
       " ('unreg', TextBlob(\"under\")),\n",
       " ('fto', TextBlob(\"to\")),\n",
       " ('ge', TextBlob(\"he\")),\n",
       " ('mvs', TextBlob(\"mrs\")),\n",
       " ('illeg', TextBlob(\"killed\")),\n",
       " ('cannabis', TextBlob(\"connais\")),\n",
       " ('fl', TextBlob(\"ll\")),\n",
       " ('inop', TextBlob(\"in\")),\n",
       " ('surrend', TextBlob(\"current\")),\n",
       " ('regis', TextBlob(\"legs\")),\n",
       " ('ofc', TextBlob(\"of\")),\n",
       " ('rearview', TextBlob(\"review\")),\n",
       " ('offende', TextBlob(\"offended\")),\n",
       " ('crt', TextBlob(\"cut\")),\n",
       " ('overtak', TextBlob(\"overtake\")),\n",
       " ('wrtn', TextBlob(\"with\")),\n",
       " ('subsq', TextBlob(\"sobs\")),\n",
       " ('offic', TextBlob(\"office\")),\n",
       " ('specif', TextBlob(\"specie\")),\n",
       " ('lts', TextBlob(\"its\")),\n",
       " ('addict', TextBlob(\"adduct\")),\n",
       " ('subst', TextBlob(\"must\")),\n",
       " ('meth', TextBlob(\"met\")),\n",
       " ('commi', TextBlob(\"commit\")),\n",
       " ('trf', TextBlob(\"try\")),\n",
       " ('ofn', TextBlob(\"of\")),\n",
       " ('unspec', TextBlob(\"unseen\")),\n",
       " ('possessoin', TextBlob(\"possession\")),\n",
       " ('agonists', TextBlob(\"egotists\")),\n",
       " ('alt', TextBlob(\"at\")),\n",
       " ('nic', TextBlob(\"nice\")),\n",
       " ('prod', TextBlob(\"proud\")),\n",
       " ('transferee', TextBlob(\"transferred\")),\n",
       " ('ccdw', TextBlob(\"code\")),\n",
       " ('defacing', TextBlob(\"dealing\")),\n",
       " ('libel', TextBlob(\"label\")),\n",
       " ('siren', TextBlob(\"sire\")),\n",
       " ('prob', TextBlob(\"probe\")),\n",
       " ('flasher', TextBlob(\"flashed\")),\n",
       " ('upproved', TextBlob(\"approved\")),\n",
       " ('dist', TextBlob(\"list\")),\n",
       " ('ligh', TextBlob(\"high\")),\n",
       " ('ohv', TextBlob(\"oh\")),\n",
       " ('zv', TextBlob(\"iv\")),\n",
       " ('pedestr', TextBlob(\"pedestal\")),\n",
       " ('zo', TextBlob(\"to\")),\n",
       " ('esca', TextBlob(\"esch\")),\n",
       " ('sh', TextBlob(\"s\")),\n",
       " ('entranc', TextBlob(\"entrance\")),\n",
       " ('dest', TextBlob(\"west\")),\n",
       " ('vehi', TextBlob(\"very\")),\n",
       " ('snagging', TextBlob(\"dragging\")),\n",
       " ('devic', TextBlob(\"devil\")),\n",
       " ('picketing', TextBlob(\"picking\")),\n",
       " ('eq', TextBlob(\"e\")),\n",
       " ('mvr', TextBlob(\"mr\")),\n",
       " ('manf', TextBlob(\"man\")),\n",
       " ('fv', TextBlob(\"ff\")),\n",
       " ('inv', TextBlob(\"in\")),\n",
       " ('ret', TextBlob(\"met\")),\n",
       " ('gallons', TextBlob(\"gallows\")),\n",
       " ('mvi', TextBlob(\"vi\")),\n",
       " ('bya', TextBlob(\"by\")),\n",
       " ('tandem', TextBlob(\"tender\")),\n",
       " ('oversize', TextBlob(\"overlie\")),\n",
       " ('towing', TextBlob(\"owing\")),\n",
       " ('expressway', TextBlob(\"expressly\")),\n",
       " ('lcs', TextBlob(\"les\")),\n",
       " ('umv', TextBlob(\"up\")),\n",
       " ('dfh', TextBlob(\"of\")),\n",
       " ('hose', TextBlob(\"those\")),\n",
       " ('ddh', TextBlob(\"did\")),\n",
       " ('rbi', TextBlob(\"roi\")),\n",
       " ('vlp', TextBlob(\"all\")),\n",
       " ('cp', TextBlob(\"up\")),\n",
       " ('coasting', TextBlob(\"casting\")),\n",
       " ('nh', TextBlob(\"no\")),\n",
       " ('fpi', TextBlob(\"foi\")),\n",
       " ('pkr', TextBlob(\"per\")),\n",
       " ('lno', TextBlob(\"no\")),\n",
       " ('hp', TextBlob(\"he\")),\n",
       " ('pol', TextBlob(\"vol\")),\n",
       " ('dor', TextBlob(\"for\")),\n",
       " ('dsz', TextBlob(\"is\")),\n",
       " ('jnl', TextBlob(\"nl\")),\n",
       " ('rcc', TextBlob(\"rec\")),\n",
       " ('steering', TextBlob(\"sneering\")),\n",
       " ('vltn', TextBlob(\"plan\")),\n",
       " ('llgl', TextBlob(\"all\")),\n",
       " ('sys', TextBlob(\"says\"))]"
      ]
     },
     "execution_count": 93,
     "metadata": {},
     "output_type": "execute_result"
    }
   ],
   "source": [
    "# check spellings\n",
    "from textblob import TextBlob \n",
    "for text in freq_words.keys():\n",
    "    corrected = \n",
    "[(text, str(TextBlob(text).correct())) for text in freq_words.keys() if TextBlob(text).correct() != text] "
   ]
  },
  {
   "cell_type": "markdown",
   "metadata": {},
   "source": [
    "### Export\n",
    "Exporting the cleaned dataframe."
   ]
  },
  {
   "cell_type": "code",
   "execution_count": 265,
   "metadata": {},
   "outputs": [],
   "source": [
    "#df.to_pickle('PKL/clean_df.pkl')"
   ]
  },
  {
   "cell_type": "code",
   "execution_count": null,
   "metadata": {},
   "outputs": [],
   "source": []
  }
 ],
 "metadata": {
  "kernelspec": {
   "display_name": "Python 3",
   "language": "python",
   "name": "python3"
  },
  "language_info": {
   "codemirror_mode": {
    "name": "ipython",
    "version": 3
   },
   "file_extension": ".py",
   "mimetype": "text/x-python",
   "name": "python",
   "nbconvert_exporter": "python",
   "pygments_lexer": "ipython3",
   "version": "3.7.4"
  },
  "toc": {
   "base_numbering": 1,
   "nav_menu": {},
   "number_sections": true,
   "sideBar": true,
   "skip_h1_title": false,
   "title_cell": "Table of Contents",
   "title_sidebar": "Contents",
   "toc_cell": false,
   "toc_position": {},
   "toc_section_display": true,
   "toc_window_display": false
  }
 },
 "nbformat": 4,
 "nbformat_minor": 2
}
