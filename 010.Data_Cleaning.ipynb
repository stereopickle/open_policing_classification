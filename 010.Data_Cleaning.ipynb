{
 "cells": [
  {
   "cell_type": "markdown",
   "metadata": {},
   "source": [
    "# Data Cleaning\n",
    "In this notebook, I'll look at the data and deal with missing values. Also excluding dataset with data quality deemed suspicious based on the original document (https://github.com/stanford-policylab/opp/blob/master/data_readme.md)"
   ]
  },
  {
   "cell_type": "code",
   "execution_count": 1,
   "metadata": {},
   "outputs": [],
   "source": [
    "import pandas as pd\n",
    "import numpy as np\n",
    "\n",
    "pd.set_option('precision', 4)\n",
    "pd.options.display.max_seq_items = None\n",
    "pd.options.display.max_columns = 50"
   ]
  },
  {
   "cell_type": "code",
   "execution_count": 2,
   "metadata": {},
   "outputs": [],
   "source": [
    "df0 = pd.read_csv('DATA/full_df.csv', index_col = 0, dtype = object)"
   ]
  },
  {
   "cell_type": "code",
   "execution_count": 3,
   "metadata": {},
   "outputs": [],
   "source": [
    "#df.columns"
   ]
  },
  {
   "cell_type": "code",
   "execution_count": 3,
   "metadata": {},
   "outputs": [],
   "source": [
    "# lower case columns to make it searchable\n",
    "df0.columns = [x.lower() for x in df0.columns]"
   ]
  },
  {
   "cell_type": "markdown",
   "metadata": {},
   "source": [
    "## Raw Data\n",
    "Raw data are original data. I'll separate these out since we may not need to use it."
   ]
  },
  {
   "cell_type": "code",
   "execution_count": 4,
   "metadata": {},
   "outputs": [],
   "source": [
    "RAW = df0[df0.columns[df0.columns.str.startswith('raw')]]"
   ]
  },
  {
   "cell_type": "code",
   "execution_count": 5,
   "metadata": {},
   "outputs": [],
   "source": [
    "df = df0.drop(RAW[1:], axis = 1)"
   ]
  },
  {
   "cell_type": "markdown",
   "metadata": {},
   "source": [
    "## Missing values & Subsetting Data\n",
    "There are many missing values. I'll use outcome as a target variable and drop missing outcome (should not infer target variable)."
   ]
  },
  {
   "cell_type": "code",
   "execution_count": 6,
   "metadata": {},
   "outputs": [
    {
     "data": {
      "text/plain": [
       "103262"
      ]
     },
     "execution_count": 6,
     "metadata": {},
     "output_type": "execute_result"
    }
   ],
   "source": [
    "df.outcome.isnull().sum()"
   ]
  },
  {
   "cell_type": "code",
   "execution_count": 7,
   "metadata": {},
   "outputs": [
    {
     "data": {
      "text/plain": [
       "citation    193921\n",
       "warning      96064\n",
       "arrest       10431\n",
       "summons       2580\n",
       "Name: outcome, dtype: int64"
      ]
     },
     "execution_count": 7,
     "metadata": {},
     "output_type": "execute_result"
    }
   ],
   "source": [
    "df.outcome.value_counts()"
   ]
  },
  {
   "cell_type": "code",
   "execution_count": 8,
   "metadata": {},
   "outputs": [],
   "source": [
    "df = df.dropna(subset = ['outcome'])"
   ]
  },
  {
   "cell_type": "markdown",
   "metadata": {},
   "source": [
    "Some columnns are just breakdown of outcome. I'll remove those."
   ]
  },
  {
   "cell_type": "code",
   "execution_count": 9,
   "metadata": {},
   "outputs": [],
   "source": [
    "df = df.drop(['citation_issued', 'warning_issued', 'arrest_made'], axis = 1)"
   ]
  },
  {
   "cell_type": "markdown",
   "metadata": {},
   "source": [
    "Some columns are post-outcome occurrences, I'll remove those."
   ]
  },
  {
   "cell_type": "code",
   "execution_count": 10,
   "metadata": {},
   "outputs": [],
   "source": [
    "df = df.drop(['reason_for_arrest'], axis = 1)"
   ]
  },
  {
   "cell_type": "markdown",
   "metadata": {},
   "source": [
    "Hardfort, CT dataset was considered 'suspicious' by others who have made the cleaned individual dataset from raw data. I'll remove those."
   ]
  },
  {
   "cell_type": "code",
   "execution_count": 11,
   "metadata": {},
   "outputs": [],
   "source": [
    "df = df.loc[df.fname != 'ct_hartford_2020_04_01.csv',:]"
   ]
  },
  {
   "cell_type": "markdown",
   "metadata": {},
   "source": [
    "Remove a column if it's missing majority of the data."
   ]
  },
  {
   "cell_type": "code",
   "execution_count": 12,
   "metadata": {},
   "outputs": [],
   "source": [
    "df = df.drop(df.columns[df.isnull().sum() > (len(df)/2)], axis = 1)"
   ]
  },
  {
   "cell_type": "markdown",
   "metadata": {},
   "source": [
    "Remove the entire location if the location misses majority of race and sex information."
   ]
  },
  {
   "cell_type": "code",
   "execution_count": 13,
   "metadata": {},
   "outputs": [],
   "source": [
    "tmp = df.groupby('fname').agg({\n",
    "                        'subject_race': lambda x: x.isnull().sum()/len(x), \n",
    "                        'subject_sex': lambda x: x.isnull().sum()/len(x)})"
   ]
  },
  {
   "cell_type": "code",
   "execution_count": 14,
   "metadata": {},
   "outputs": [],
   "source": [
    "to_remove = list(tmp[(tmp.subject_race > 0.5) | (tmp.subject_sex > 0.5)].index)"
   ]
  },
  {
   "cell_type": "code",
   "execution_count": 15,
   "metadata": {},
   "outputs": [],
   "source": [
    "df = df[~df.fname.isin(to_remove)]"
   ]
  },
  {
   "cell_type": "markdown",
   "metadata": {},
   "source": [
    "Remove all info with missing race and sex information (key predictor without means to infer value)"
   ]
  },
  {
   "cell_type": "code",
   "execution_count": 16,
   "metadata": {},
   "outputs": [],
   "source": [
    "df = df.dropna(subset = ['subject_race', 'subject_sex'])"
   ]
  },
  {
   "cell_type": "markdown",
   "metadata": {},
   "source": [
    "For the purpose of this analysis, I'll drop rows if subject age and violation is missing."
   ]
  },
  {
   "cell_type": "code",
   "execution_count": 17,
   "metadata": {},
   "outputs": [],
   "source": [
    "df = df.dropna(subset = ['subject_age', 'violation'])"
   ]
  },
  {
   "cell_type": "markdown",
   "metadata": {},
   "source": [
    "Fill missing time with average hour"
   ]
  },
  {
   "cell_type": "code",
   "execution_count": 18,
   "metadata": {},
   "outputs": [],
   "source": [
    "# fill time with average hour\n",
    "hour = str(int(df.time.dropna().apply(lambda x: int(x[:2])).mean()))\n",
    "df.time = df.time.fillna(f'{hour}:00:00')"
   ]
  },
  {
   "cell_type": "markdown",
   "metadata": {},
   "source": [
    "Get city/state from fname and remove location."
   ]
  },
  {
   "cell_type": "code",
   "execution_count": 19,
   "metadata": {},
   "outputs": [],
   "source": [
    "df['state'] = [x.split('_')[0] for x in df.fname]\n",
    "df['city'] = [x[:-15][3:] for x in df.fname]"
   ]
  },
  {
   "cell_type": "code",
   "execution_count": 20,
   "metadata": {},
   "outputs": [],
   "source": [
    "df = df.drop('location', axis = 1)"
   ]
  },
  {
   "cell_type": "code",
   "execution_count": 21,
   "metadata": {},
   "outputs": [],
   "source": [
    "df = df.drop('fname', axis = 1)"
   ]
  },
  {
   "cell_type": "markdown",
   "metadata": {},
   "source": [
    "For missing lat/long, impute the general location from the city info."
   ]
  },
  {
   "cell_type": "code",
   "execution_count": 22,
   "metadata": {},
   "outputs": [],
   "source": [
    "from geopy.geocoders import Nominatim\n",
    "\n",
    "def get_lat_long(location):\n",
    "    geolocator = Nominatim(user_agent = \"open_polici_dat\")\n",
    "    location = geolocator.geocode(location)\n",
    "    return (location.latitude, location.longitude)    "
   ]
  },
  {
   "cell_type": "code",
   "execution_count": 23,
   "metadata": {},
   "outputs": [],
   "source": [
    "df['location'] = np.where(df['city'] == 'statewide', df['state'], df['city'] + ', ' + df['state'])"
   ]
  },
  {
   "cell_type": "code",
   "execution_count": 24,
   "metadata": {},
   "outputs": [
    {
     "name": "stdout",
     "output_type": "stream",
     "text": [
      "error: oklahoma_city, ok\n"
     ]
    }
   ],
   "source": [
    "locations = set(df.location)\n",
    "all_loc = dict.fromkeys(locations, ())\n",
    "\n",
    "for loc in locations:\n",
    "    try:\n",
    "        all_loc[loc] = get_lat_long(loc)\n",
    "    except AttributeError:\n",
    "        print(f'error: {loc}')\n",
    "        "
   ]
  },
  {
   "cell_type": "code",
   "execution_count": 25,
   "metadata": {},
   "outputs": [],
   "source": [
    "all_loc['oklahoma_city, ok'] = get_lat_long('Oklahoma City, OK')"
   ]
  },
  {
   "cell_type": "code",
   "execution_count": 26,
   "metadata": {},
   "outputs": [],
   "source": [
    "df['lat'] = df.location.apply(lambda x: all_loc[x][0])\n",
    "df['lng'] = df.location.apply(lambda x: all_loc[x][1])"
   ]
  },
  {
   "cell_type": "markdown",
   "metadata": {},
   "source": [
    "For search conducted, I'll add unknown as category for missing values."
   ]
  },
  {
   "cell_type": "code",
   "execution_count": 27,
   "metadata": {},
   "outputs": [],
   "source": [
    "df.search_conducted = df.search_conducted.fillna('unknown')"
   ]
  },
  {
   "cell_type": "markdown",
   "metadata": {},
   "source": [
    "For types, if I find vehicular related words from violation I'll put vehicular, otherwise I'll put 'others'."
   ]
  },
  {
   "cell_type": "code",
   "execution_count": 28,
   "metadata": {},
   "outputs": [],
   "source": [
    "df['violation'] = df.violation.apply(lambda x: x.lower())"
   ]
  },
  {
   "cell_type": "code",
   "execution_count": 29,
   "metadata": {},
   "outputs": [],
   "source": [
    "vehic_list_ = ['veh', 'ticket', 'traf', 'dmv', 'belt', 'speed', 'stop', 'dui', \n",
    "         'registration', 'parking', 'driv', 'yield', 'insurance', 'right of way', 'oper', 'fast',\n",
    "              'bicycle', 'phone', 'lane', 'helmet', 'oneway', 'lighting', 'stop/stand', 'reg', 'backing',\n",
    "               'highway', 'light', 'over height', 'freeway', 'license', 'hydrant', 'turn', 'safety chain']\n",
    "df['vehicular_indicator'] = df.violation.apply(lambda x: any(vehic_list_ in x for vehic_list_ in vehic_list_))"
   ]
  },
  {
   "cell_type": "code",
   "execution_count": 30,
   "metadata": {},
   "outputs": [],
   "source": [
    "df['type'] = np.where((df.type.isnull()) & (df.vehicular_indicator), 'vehicular', df.type)"
   ]
  },
  {
   "cell_type": "code",
   "execution_count": 31,
   "metadata": {},
   "outputs": [],
   "source": [
    "ped_list = ['pedest', 'public', 'in park', 'walk', 'larceny', 'tresp', 'shoplift', 'curfew',\n",
    "            'gathering', 'disorderly conduct', 'street', 'closed park', 'touching', 'theft', 'outdoors']\n",
    "df['pedestrian_indicator'] = df.violation.apply(lambda x: any(ped_list in x for ped_list in ped_list))\n",
    "df['type'] = np.where((df.type.isnull()) & (df.pedestrian_indicator), 'pedestrian', df.type)"
   ]
  },
  {
   "cell_type": "code",
   "execution_count": 32,
   "metadata": {},
   "outputs": [],
   "source": [
    "df.type = df['type'].fillna('others')"
   ]
  },
  {
   "cell_type": "markdown",
   "metadata": {},
   "source": [
    "### Data Type\n",
    "Let's check the final data types to find any abnormalities."
   ]
  },
  {
   "cell_type": "code",
   "execution_count": 42,
   "metadata": {},
   "outputs": [],
   "source": [
    "#df.info()"
   ]
  },
  {
   "cell_type": "markdown",
   "metadata": {},
   "source": [
    "Age shouldn't be an object. Let's check the values."
   ]
  },
  {
   "cell_type": "code",
   "execution_count": 33,
   "metadata": {},
   "outputs": [],
   "source": [
    "#df.subject_age.unique()\n",
    "df.subject_age = df.subject_age.astype('int64')"
   ]
  },
  {
   "cell_type": "markdown",
   "metadata": {},
   "source": [
    "### Violations\n",
    "From violation texts, I'll try to identify indication for different violation types and add as columns."
   ]
  },
  {
   "cell_type": "code",
   "execution_count": 34,
   "metadata": {},
   "outputs": [
    {
     "data": {
      "text/html": [
       "<div>\n",
       "<style scoped>\n",
       "    .dataframe tbody tr th:only-of-type {\n",
       "        vertical-align: middle;\n",
       "    }\n",
       "\n",
       "    .dataframe tbody tr th {\n",
       "        vertical-align: top;\n",
       "    }\n",
       "\n",
       "    .dataframe thead th {\n",
       "        text-align: right;\n",
       "    }\n",
       "</style>\n",
       "<table border=\"1\" class=\"dataframe\">\n",
       "  <thead>\n",
       "    <tr style=\"text-align: right;\">\n",
       "      <th></th>\n",
       "      <th>date</th>\n",
       "      <th>time</th>\n",
       "      <th>lat</th>\n",
       "      <th>lng</th>\n",
       "      <th>subject_age</th>\n",
       "      <th>subject_race</th>\n",
       "      <th>subject_sex</th>\n",
       "      <th>type</th>\n",
       "      <th>outcome</th>\n",
       "      <th>violation</th>\n",
       "      <th>search_conducted</th>\n",
       "      <th>state</th>\n",
       "      <th>city</th>\n",
       "      <th>location</th>\n",
       "      <th>vehicular_indicator</th>\n",
       "      <th>pedestrian_indicator</th>\n",
       "    </tr>\n",
       "  </thead>\n",
       "  <tbody>\n",
       "    <tr>\n",
       "      <th>5000</th>\n",
       "      <td>2015-10-04</td>\n",
       "      <td>05:17:00</td>\n",
       "      <td>33.4151</td>\n",
       "      <td>-111.8315</td>\n",
       "      <td>23</td>\n",
       "      <td>hispanic</td>\n",
       "      <td>male</td>\n",
       "      <td>vehicular</td>\n",
       "      <td>citation</td>\n",
       "      <td>failure to stop for stop sign</td>\n",
       "      <td>unknown</td>\n",
       "      <td>az</td>\n",
       "      <td>mesa</td>\n",
       "      <td>mesa, az</td>\n",
       "      <td>True</td>\n",
       "      <td>False</td>\n",
       "    </tr>\n",
       "    <tr>\n",
       "      <th>5001</th>\n",
       "      <td>2015-05-15</td>\n",
       "      <td>05:47:00</td>\n",
       "      <td>33.4151</td>\n",
       "      <td>-111.8315</td>\n",
       "      <td>19</td>\n",
       "      <td>white</td>\n",
       "      <td>female</td>\n",
       "      <td>vehicular</td>\n",
       "      <td>citation</td>\n",
       "      <td>speed not r&amp;p/ftc speed to avoid a collision</td>\n",
       "      <td>unknown</td>\n",
       "      <td>az</td>\n",
       "      <td>mesa</td>\n",
       "      <td>mesa, az</td>\n",
       "      <td>True</td>\n",
       "      <td>False</td>\n",
       "    </tr>\n",
       "    <tr>\n",
       "      <th>5002</th>\n",
       "      <td>2015-12-18</td>\n",
       "      <td>08:37:00</td>\n",
       "      <td>33.4151</td>\n",
       "      <td>-111.8315</td>\n",
       "      <td>31</td>\n",
       "      <td>unknown</td>\n",
       "      <td>male</td>\n",
       "      <td>vehicular</td>\n",
       "      <td>citation</td>\n",
       "      <td>m / i suspension registration</td>\n",
       "      <td>unknown</td>\n",
       "      <td>az</td>\n",
       "      <td>mesa</td>\n",
       "      <td>mesa, az</td>\n",
       "      <td>True</td>\n",
       "      <td>False</td>\n",
       "    </tr>\n",
       "    <tr>\n",
       "      <th>5003</th>\n",
       "      <td>2015-06-10</td>\n",
       "      <td>08:01:00</td>\n",
       "      <td>33.4151</td>\n",
       "      <td>-111.8315</td>\n",
       "      <td>37</td>\n",
       "      <td>white</td>\n",
       "      <td>female</td>\n",
       "      <td>vehicular</td>\n",
       "      <td>citation</td>\n",
       "      <td>speed not r&amp;p/ftc speed to avoid a collision</td>\n",
       "      <td>unknown</td>\n",
       "      <td>az</td>\n",
       "      <td>mesa</td>\n",
       "      <td>mesa, az</td>\n",
       "      <td>True</td>\n",
       "      <td>False</td>\n",
       "    </tr>\n",
       "    <tr>\n",
       "      <th>5004</th>\n",
       "      <td>2015-12-29</td>\n",
       "      <td>01:18:00</td>\n",
       "      <td>33.4151</td>\n",
       "      <td>-111.8315</td>\n",
       "      <td>33</td>\n",
       "      <td>white</td>\n",
       "      <td>male</td>\n",
       "      <td>vehicular</td>\n",
       "      <td>citation</td>\n",
       "      <td>dui - liquor - drugs</td>\n",
       "      <td>unknown</td>\n",
       "      <td>az</td>\n",
       "      <td>mesa</td>\n",
       "      <td>mesa, az</td>\n",
       "      <td>True</td>\n",
       "      <td>False</td>\n",
       "    </tr>\n",
       "    <tr>\n",
       "      <th>...</th>\n",
       "      <td>...</td>\n",
       "      <td>...</td>\n",
       "      <td>...</td>\n",
       "      <td>...</td>\n",
       "      <td>...</td>\n",
       "      <td>...</td>\n",
       "      <td>...</td>\n",
       "      <td>...</td>\n",
       "      <td>...</td>\n",
       "      <td>...</td>\n",
       "      <td>...</td>\n",
       "      <td>...</td>\n",
       "      <td>...</td>\n",
       "      <td>...</td>\n",
       "      <td>...</td>\n",
       "      <td>...</td>\n",
       "    </tr>\n",
       "    <tr>\n",
       "      <th>391246</th>\n",
       "      <td>2015-04-07</td>\n",
       "      <td>14:00:00</td>\n",
       "      <td>47.2868</td>\n",
       "      <td>-120.2126</td>\n",
       "      <td>21</td>\n",
       "      <td>black</td>\n",
       "      <td>female</td>\n",
       "      <td>vehicular</td>\n",
       "      <td>citation</td>\n",
       "      <td>safety belt</td>\n",
       "      <td>FALSE</td>\n",
       "      <td>wa</td>\n",
       "      <td>statewide</td>\n",
       "      <td>wa</td>\n",
       "      <td>True</td>\n",
       "      <td>False</td>\n",
       "    </tr>\n",
       "    <tr>\n",
       "      <th>391248</th>\n",
       "      <td>2015-02-22</td>\n",
       "      <td>07:00:00</td>\n",
       "      <td>47.2868</td>\n",
       "      <td>-120.2126</td>\n",
       "      <td>53</td>\n",
       "      <td>asian/pacific islander</td>\n",
       "      <td>male</td>\n",
       "      <td>vehicular</td>\n",
       "      <td>citation</td>\n",
       "      <td>speed - radar</td>\n",
       "      <td>FALSE</td>\n",
       "      <td>wa</td>\n",
       "      <td>statewide</td>\n",
       "      <td>wa</td>\n",
       "      <td>True</td>\n",
       "      <td>False</td>\n",
       "    </tr>\n",
       "    <tr>\n",
       "      <th>391250</th>\n",
       "      <td>2015-11-20</td>\n",
       "      <td>05:00:00</td>\n",
       "      <td>47.2868</td>\n",
       "      <td>-120.2126</td>\n",
       "      <td>51</td>\n",
       "      <td>white</td>\n",
       "      <td>male</td>\n",
       "      <td>vehicular</td>\n",
       "      <td>warning</td>\n",
       "      <td>speed - radar</td>\n",
       "      <td>FALSE</td>\n",
       "      <td>wa</td>\n",
       "      <td>statewide</td>\n",
       "      <td>wa</td>\n",
       "      <td>True</td>\n",
       "      <td>False</td>\n",
       "    </tr>\n",
       "    <tr>\n",
       "      <th>391254</th>\n",
       "      <td>2015-05-29</td>\n",
       "      <td>15:00:00</td>\n",
       "      <td>47.2868</td>\n",
       "      <td>-120.2126</td>\n",
       "      <td>33</td>\n",
       "      <td>white</td>\n",
       "      <td>male</td>\n",
       "      <td>vehicular</td>\n",
       "      <td>citation</td>\n",
       "      <td>safety belt</td>\n",
       "      <td>FALSE</td>\n",
       "      <td>wa</td>\n",
       "      <td>statewide</td>\n",
       "      <td>wa</td>\n",
       "      <td>True</td>\n",
       "      <td>False</td>\n",
       "    </tr>\n",
       "    <tr>\n",
       "      <th>391255</th>\n",
       "      <td>2015-08-14</td>\n",
       "      <td>08:00:00</td>\n",
       "      <td>47.2868</td>\n",
       "      <td>-120.2126</td>\n",
       "      <td>43</td>\n",
       "      <td>white</td>\n",
       "      <td>female</td>\n",
       "      <td>vehicular</td>\n",
       "      <td>citation</td>\n",
       "      <td>vehicle lic (tabs/plates)|other violations - i...</td>\n",
       "      <td>FALSE</td>\n",
       "      <td>wa</td>\n",
       "      <td>statewide</td>\n",
       "      <td>wa</td>\n",
       "      <td>True</td>\n",
       "      <td>False</td>\n",
       "    </tr>\n",
       "  </tbody>\n",
       "</table>\n",
       "<p>78972 rows × 16 columns</p>\n",
       "</div>"
      ],
      "text/plain": [
       "              date      time      lat       lng  subject_age  \\\n",
       "5000    2015-10-04  05:17:00  33.4151 -111.8315           23   \n",
       "5001    2015-05-15  05:47:00  33.4151 -111.8315           19   \n",
       "5002    2015-12-18  08:37:00  33.4151 -111.8315           31   \n",
       "5003    2015-06-10  08:01:00  33.4151 -111.8315           37   \n",
       "5004    2015-12-29  01:18:00  33.4151 -111.8315           33   \n",
       "...            ...       ...      ...       ...          ...   \n",
       "391246  2015-04-07  14:00:00  47.2868 -120.2126           21   \n",
       "391248  2015-02-22  07:00:00  47.2868 -120.2126           53   \n",
       "391250  2015-11-20  05:00:00  47.2868 -120.2126           51   \n",
       "391254  2015-05-29  15:00:00  47.2868 -120.2126           33   \n",
       "391255  2015-08-14  08:00:00  47.2868 -120.2126           43   \n",
       "\n",
       "                  subject_race subject_sex       type   outcome  \\\n",
       "5000                  hispanic        male  vehicular  citation   \n",
       "5001                     white      female  vehicular  citation   \n",
       "5002                   unknown        male  vehicular  citation   \n",
       "5003                     white      female  vehicular  citation   \n",
       "5004                     white        male  vehicular  citation   \n",
       "...                        ...         ...        ...       ...   \n",
       "391246                   black      female  vehicular  citation   \n",
       "391248  asian/pacific islander        male  vehicular  citation   \n",
       "391250                   white        male  vehicular   warning   \n",
       "391254                   white        male  vehicular  citation   \n",
       "391255                   white      female  vehicular  citation   \n",
       "\n",
       "                                                violation search_conducted  \\\n",
       "5000                        failure to stop for stop sign          unknown   \n",
       "5001         speed not r&p/ftc speed to avoid a collision          unknown   \n",
       "5002                        m / i suspension registration          unknown   \n",
       "5003         speed not r&p/ftc speed to avoid a collision          unknown   \n",
       "5004                                 dui - liquor - drugs          unknown   \n",
       "...                                                   ...              ...   \n",
       "391246                                        safety belt            FALSE   \n",
       "391248                                      speed - radar            FALSE   \n",
       "391250                                      speed - radar            FALSE   \n",
       "391254                                        safety belt            FALSE   \n",
       "391255  vehicle lic (tabs/plates)|other violations - i...            FALSE   \n",
       "\n",
       "       state       city  location  vehicular_indicator  pedestrian_indicator  \n",
       "5000      az       mesa  mesa, az                 True                 False  \n",
       "5001      az       mesa  mesa, az                 True                 False  \n",
       "5002      az       mesa  mesa, az                 True                 False  \n",
       "5003      az       mesa  mesa, az                 True                 False  \n",
       "5004      az       mesa  mesa, az                 True                 False  \n",
       "...      ...        ...       ...                  ...                   ...  \n",
       "391246    wa  statewide        wa                 True                 False  \n",
       "391248    wa  statewide        wa                 True                 False  \n",
       "391250    wa  statewide        wa                 True                 False  \n",
       "391254    wa  statewide        wa                 True                 False  \n",
       "391255    wa  statewide        wa                 True                 False  \n",
       "\n",
       "[78972 rows x 16 columns]"
      ]
     },
     "execution_count": 34,
     "metadata": {},
     "output_type": "execute_result"
    }
   ],
   "source": [
    "df"
   ]
  },
  {
   "cell_type": "markdown",
   "metadata": {},
   "source": [
    "### Export\n",
    "Exporting the cleaned dataframe."
   ]
  },
  {
   "cell_type": "code",
   "execution_count": 265,
   "metadata": {},
   "outputs": [],
   "source": [
    "#df.to_pickle('PKL/clean_df.pkl')"
   ]
  },
  {
   "cell_type": "code",
   "execution_count": null,
   "metadata": {},
   "outputs": [],
   "source": []
  },
  {
   "cell_type": "code",
   "execution_count": null,
   "metadata": {},
   "outputs": [],
   "source": []
  }
 ],
 "metadata": {
  "kernelspec": {
   "display_name": "Python 3",
   "language": "python",
   "name": "python3"
  },
  "language_info": {
   "codemirror_mode": {
    "name": "ipython",
    "version": 3
   },
   "file_extension": ".py",
   "mimetype": "text/x-python",
   "name": "python",
   "nbconvert_exporter": "python",
   "pygments_lexer": "ipython3",
   "version": "3.7.4"
  },
  "toc": {
   "base_numbering": 1,
   "nav_menu": {},
   "number_sections": true,
   "sideBar": true,
   "skip_h1_title": false,
   "title_cell": "Table of Contents",
   "title_sidebar": "Contents",
   "toc_cell": false,
   "toc_position": {},
   "toc_section_display": true,
   "toc_window_display": false
  }
 },
 "nbformat": 4,
 "nbformat_minor": 4
}
